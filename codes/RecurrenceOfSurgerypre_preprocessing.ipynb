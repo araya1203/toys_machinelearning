{
 "cells": [
  {
   "cell_type": "markdown",
   "id": "eeecfe0d-ead5-464b-9d19-41e56942f400",
   "metadata": {},
   "source": [
    "#### quest\n",
    " - 업무분장(전처리, 모델학습)\n",
    " - RecurrenceOfSurgery.csv 사용\n",
    " - 목표변수 범주형 : 척추전방위증 \n",
    " - 설명변수 최소 6개 : \n",
    "   - (연속형)\n",
    "     체중 \n",
    "     신장\n",
    "        \n",
    "   - (범주형)\n",
    "     환자통증정도,\n",
    "     스테로이드치료, \n",
    "     수술기법\n",
    "     과거수술횟수\n",
    "  \n",
    "- 서비스 대상과 목표 설명, 변수 선택 이유"
   ]
  },
  {
   "cell_type": "code",
   "execution_count": 4,
   "id": "f49e24eb-ff39-4926-b627-eabf1e785bda",
   "metadata": {
    "tags": []
   },
   "outputs": [],
   "source": [
    "import pandas as pd"
   ]
  },
  {
   "cell_type": "code",
   "execution_count": 5,
   "id": "88e437c0-87ab-4080-8757-53532bf140fc",
   "metadata": {
    "tags": []
   },
   "outputs": [
    {
     "name": "stdout",
     "output_type": "stream",
     "text": [
      "<class 'pandas.core.frame.DataFrame'>\n",
      "RangeIndex: 1894 entries, 0 to 1893\n",
      "Data columns (total 52 columns):\n",
      " #   Column                  Non-Null Count  Dtype  \n",
      "---  ------                  --------------  -----  \n",
      " 0   Unnamed: 0              1894 non-null   int64  \n",
      " 1   환자ID                    1894 non-null   object \n",
      " 2   Large Lymphocyte        1894 non-null   float64\n",
      " 3   Location of herniation  1894 non-null   int64  \n",
      " 4   ODI                     462 non-null    float64\n",
      " 5   가족력                     1843 non-null   float64\n",
      " 6   간질성폐질환                  1894 non-null   int64  \n",
      " 7   고혈압여부                   1894 non-null   int64  \n",
      " 8   과거수술횟수                  1894 non-null   int64  \n",
      " 9   당뇨여부                    1894 non-null   int64  \n",
      " 10  말초동맥질환여부                1894 non-null   int64  \n",
      " 11  빈혈여부                    1894 non-null   int64  \n",
      " 12  성별                      1894 non-null   int64  \n",
      " 13  스테로이드치료                 1894 non-null   int64  \n",
      " 14  신부전여부                   1894 non-null   int64  \n",
      " 15  신장                      1894 non-null   int64  \n",
      " 16  심혈관질환                   1894 non-null   int64  \n",
      " 17  암발병여부                   1894 non-null   int64  \n",
      " 18  연령                      1894 non-null   int64  \n",
      " 19  우울증여부                   1894 non-null   int64  \n",
      " 20  입원기간                    1894 non-null   int64  \n",
      " 21  입원일자                    1894 non-null   int64  \n",
      " 22  종양진행여부                  1894 non-null   int64  \n",
      " 23  직업                      1479 non-null   object \n",
      " 24  체중                      1894 non-null   float64\n",
      " 25  퇴원일자                    1894 non-null   int64  \n",
      " 26  헤모글로빈수치                 1893 non-null   float64\n",
      " 27  혈전합병증여부                 1894 non-null   int64  \n",
      " 28  환자통증정도                  1894 non-null   int64  \n",
      " 29  흡연여부                    1894 non-null   int64  \n",
      " 30  통증기간(월)                 1890 non-null   float64\n",
      " 31  수술기법                    1813 non-null   object \n",
      " 32  수술시간                    1840 non-null   float64\n",
      " 33  수술실패여부                  1894 non-null   int64  \n",
      " 34  수술일자                    1894 non-null   int64  \n",
      " 35  재발여부                    1894 non-null   int64  \n",
      " 36  혈액형                     1894 non-null   object \n",
      " 37  전방디스크높이(mm)             1894 non-null   float64\n",
      " 38  후방디스크높이(mm)             1894 non-null   float64\n",
      " 39  지방축적도                   1891 non-null   float64\n",
      " 40  Instability             1894 non-null   int64  \n",
      " 41  MF + ES                 1894 non-null   float64\n",
      " 42  Modic change            1894 non-null   int64  \n",
      " 43  PI                      1890 non-null   float64\n",
      " 44  PT                      1890 non-null   float64\n",
      " 45  Seg Angle(raw)          1893 non-null   float64\n",
      " 46  Vaccum disc             1894 non-null   int64  \n",
      " 47  골밀도                     998 non-null    float64\n",
      " 48  디스크단면적                  1893 non-null   float64\n",
      " 49  디스크위치                   1894 non-null   int64  \n",
      " 50  척추이동척도                  1894 non-null   object \n",
      " 51  척추전방위증                  1894 non-null   int64  \n",
      "dtypes: float64(16), int64(31), object(5)\n",
      "memory usage: 769.6+ KB\n"
     ]
    }
   ],
   "source": [
    "df_ROS = pd.read_csv('../datasets/RecurrenceOfSurgery.csv')\n",
    "df_ROS.info()"
   ]
  },
  {
   "cell_type": "code",
   "execution_count": 6,
   "id": "f7234f20-8b81-4159-9d2f-40b916132e5a",
   "metadata": {
    "tags": []
   },
   "outputs": [
    {
     "data": {
      "text/html": [
       "<div>\n",
       "<style scoped>\n",
       "    .dataframe tbody tr th:only-of-type {\n",
       "        vertical-align: middle;\n",
       "    }\n",
       "\n",
       "    .dataframe tbody tr th {\n",
       "        vertical-align: top;\n",
       "    }\n",
       "\n",
       "    .dataframe thead th {\n",
       "        text-align: right;\n",
       "    }\n",
       "</style>\n",
       "<table border=\"1\" class=\"dataframe\">\n",
       "  <thead>\n",
       "    <tr style=\"text-align: right;\">\n",
       "      <th></th>\n",
       "      <th>Unnamed: 0</th>\n",
       "      <th>환자ID</th>\n",
       "      <th>Large Lymphocyte</th>\n",
       "      <th>Location of herniation</th>\n",
       "      <th>ODI</th>\n",
       "      <th>가족력</th>\n",
       "      <th>간질성폐질환</th>\n",
       "      <th>고혈압여부</th>\n",
       "      <th>과거수술횟수</th>\n",
       "      <th>당뇨여부</th>\n",
       "      <th>...</th>\n",
       "      <th>Modic change</th>\n",
       "      <th>PI</th>\n",
       "      <th>PT</th>\n",
       "      <th>Seg Angle(raw)</th>\n",
       "      <th>Vaccum disc</th>\n",
       "      <th>골밀도</th>\n",
       "      <th>디스크단면적</th>\n",
       "      <th>디스크위치</th>\n",
       "      <th>척추이동척도</th>\n",
       "      <th>척추전방위증</th>\n",
       "    </tr>\n",
       "  </thead>\n",
       "  <tbody>\n",
       "    <tr>\n",
       "      <th>0</th>\n",
       "      <td>0</td>\n",
       "      <td>1PT</td>\n",
       "      <td>22.8</td>\n",
       "      <td>3</td>\n",
       "      <td>51.0</td>\n",
       "      <td>0.0</td>\n",
       "      <td>0</td>\n",
       "      <td>0</td>\n",
       "      <td>0</td>\n",
       "      <td>0</td>\n",
       "      <td>...</td>\n",
       "      <td>3</td>\n",
       "      <td>51.6</td>\n",
       "      <td>36.6</td>\n",
       "      <td>14.4</td>\n",
       "      <td>0</td>\n",
       "      <td>-1.01</td>\n",
       "      <td>2048.5</td>\n",
       "      <td>4</td>\n",
       "      <td>Down</td>\n",
       "      <td>0</td>\n",
       "    </tr>\n",
       "    <tr>\n",
       "      <th>1</th>\n",
       "      <td>1</td>\n",
       "      <td>2PT</td>\n",
       "      <td>44.9</td>\n",
       "      <td>4</td>\n",
       "      <td>26.0</td>\n",
       "      <td>0.0</td>\n",
       "      <td>0</td>\n",
       "      <td>0</td>\n",
       "      <td>0</td>\n",
       "      <td>0</td>\n",
       "      <td>...</td>\n",
       "      <td>0</td>\n",
       "      <td>40.8</td>\n",
       "      <td>7.2</td>\n",
       "      <td>17.8</td>\n",
       "      <td>0</td>\n",
       "      <td>-1.14</td>\n",
       "      <td>1753.1</td>\n",
       "      <td>4</td>\n",
       "      <td>Up</td>\n",
       "      <td>0</td>\n",
       "    </tr>\n",
       "  </tbody>\n",
       "</table>\n",
       "<p>2 rows × 52 columns</p>\n",
       "</div>"
      ],
      "text/plain": [
       "   Unnamed: 0 환자ID  Large Lymphocyte  Location of herniation   ODI  가족력  \\\n",
       "0           0  1PT              22.8                       3  51.0  0.0   \n",
       "1           1  2PT              44.9                       4  26.0  0.0   \n",
       "\n",
       "   간질성폐질환  고혈압여부  과거수술횟수  당뇨여부  ...  Modic change    PI    PT  Seg Angle(raw)  \\\n",
       "0       0      0       0     0  ...             3  51.6  36.6            14.4   \n",
       "1       0      0       0     0  ...             0  40.8   7.2            17.8   \n",
       "\n",
       "   Vaccum disc   골밀도  디스크단면적  디스크위치  척추이동척도  척추전방위증  \n",
       "0            0 -1.01  2048.5      4    Down       0  \n",
       "1            0 -1.14  1753.1      4      Up       0  \n",
       "\n",
       "[2 rows x 52 columns]"
      ]
     },
     "execution_count": 6,
     "metadata": {},
     "output_type": "execute_result"
    }
   ],
   "source": [
    "df_ROS[:2]"
   ]
  },
  {
   "cell_type": "code",
   "execution_count": 7,
   "id": "73a56c3b-3e37-40df-8b56-a87cb99cbac8",
   "metadata": {
    "tags": []
   },
   "outputs": [
    {
     "data": {
      "text/plain": [
       "Index(['Unnamed: 0', '환자ID', 'Large Lymphocyte', 'Location of herniation',\n",
       "       'ODI', '가족력', '간질성폐질환', '고혈압여부', '과거수술횟수', '당뇨여부', '말초동맥질환여부', '빈혈여부',\n",
       "       '성별', '스테로이드치료', '신부전여부', '신장', '심혈관질환', '암발병여부', '연령', '우울증여부', '입원기간',\n",
       "       '입원일자', '종양진행여부', '직업', '체중', '퇴원일자', '헤모글로빈수치', '혈전합병증여부', '환자통증정도',\n",
       "       '흡연여부', '통증기간(월)', '수술기법', '수술시간', '수술실패여부', '수술일자', '재발여부', '혈액형',\n",
       "       '전방디스크높이(mm)', '후방디스크높이(mm)', '지방축적도', 'Instability', 'MF + ES',\n",
       "       'Modic change', 'PI', 'PT', 'Seg Angle(raw)', 'Vaccum disc', '골밀도',\n",
       "       '디스크단면적', '디스크위치', '척추이동척도', '척추전방위증'],\n",
       "      dtype='object')"
      ]
     },
     "execution_count": 7,
     "metadata": {},
     "output_type": "execute_result"
    }
   ],
   "source": [
    "df_ROS.columns"
   ]
  },
  {
   "cell_type": "code",
   "execution_count": 8,
   "id": "7ab7741b-e384-4d1f-8aef-e8ea5948be21",
   "metadata": {
    "tags": []
   },
   "outputs": [
    {
     "data": {
      "text/plain": [
       "척추전방위증      0\n",
       "체중          0\n",
       "신장          0\n",
       "환자통증정도      0\n",
       "스테로이드치료     0\n",
       "수술기법       81\n",
       "과거수술횟수      0\n",
       "dtype: int64"
      ]
     },
     "execution_count": 8,
     "metadata": {},
     "output_type": "execute_result"
    }
   ],
   "source": [
    "df_ROS_extract_null = df_ROS[['척추전방위증', '체중', '신장', '환자통증정도', '스테로이드치료', '수술기법', '과거수술횟수']]\n",
    "df_ROS_extract_null.isnull().sum() # 결측치 확인 "
   ]
  },
  {
   "cell_type": "code",
   "execution_count": 9,
   "id": "2d46cd19-edcd-4082-ad57-341f868f2be8",
   "metadata": {
    "tags": []
   },
   "outputs": [
    {
     "data": {
      "text/html": [
       "<div>\n",
       "<style scoped>\n",
       "    .dataframe tbody tr th:only-of-type {\n",
       "        vertical-align: middle;\n",
       "    }\n",
       "\n",
       "    .dataframe tbody tr th {\n",
       "        vertical-align: top;\n",
       "    }\n",
       "\n",
       "    .dataframe thead th {\n",
       "        text-align: right;\n",
       "    }\n",
       "</style>\n",
       "<table border=\"1\" class=\"dataframe\">\n",
       "  <thead>\n",
       "    <tr style=\"text-align: right;\">\n",
       "      <th></th>\n",
       "      <th>척추전방위증</th>\n",
       "      <th>체중</th>\n",
       "      <th>신장</th>\n",
       "      <th>환자통증정도</th>\n",
       "      <th>스테로이드치료</th>\n",
       "      <th>수술기법</th>\n",
       "      <th>과거수술횟수</th>\n",
       "    </tr>\n",
       "  </thead>\n",
       "  <tbody>\n",
       "    <tr>\n",
       "      <th>0</th>\n",
       "      <td>0</td>\n",
       "      <td>60.3</td>\n",
       "      <td>163</td>\n",
       "      <td>10</td>\n",
       "      <td>1</td>\n",
       "      <td>TELD</td>\n",
       "      <td>0</td>\n",
       "    </tr>\n",
       "    <tr>\n",
       "      <th>1</th>\n",
       "      <td>0</td>\n",
       "      <td>71.7</td>\n",
       "      <td>171</td>\n",
       "      <td>10</td>\n",
       "      <td>1</td>\n",
       "      <td>TELD</td>\n",
       "      <td>0</td>\n",
       "    </tr>\n",
       "  </tbody>\n",
       "</table>\n",
       "</div>"
      ],
      "text/plain": [
       "   척추전방위증    체중   신장  환자통증정도  스테로이드치료  수술기법  과거수술횟수\n",
       "0       0  60.3  163      10        1  TELD       0\n",
       "1       0  71.7  171      10        1  TELD       0"
      ]
     },
     "execution_count": 9,
     "metadata": {},
     "output_type": "execute_result"
    }
   ],
   "source": [
    "df_ROS_extract_null[:2]"
   ]
  },
  {
   "cell_type": "code",
   "execution_count": 10,
   "id": "c0df451d-47ea-4d10-908b-ffc080ccd6f9",
   "metadata": {
    "tags": []
   },
   "outputs": [
    {
     "data": {
      "text/plain": [
       "0    1833\n",
       "1      61\n",
       "Name: 척추전방위증, dtype: int64"
      ]
     },
     "execution_count": 10,
     "metadata": {},
     "output_type": "execute_result"
    }
   ],
   "source": [
    "df_ROS_extract_null['척추전방위증'].value_counts()"
   ]
  },
  {
   "cell_type": "code",
   "execution_count": 11,
   "id": "9f999d2a-f073-4ab5-95fc-91e9329bb03d",
   "metadata": {
    "tags": []
   },
   "outputs": [
    {
     "data": {
      "text/plain": [
       "70.0    67\n",
       "65.0    66\n",
       "60.0    63\n",
       "74.0    44\n",
       "72.0    43\n",
       "        ..\n",
       "80.8     1\n",
       "72.5     1\n",
       "65.8     1\n",
       "75.4     1\n",
       "47.5     1\n",
       "Name: 체중, Length: 288, dtype: int64"
      ]
     },
     "execution_count": 11,
     "metadata": {},
     "output_type": "execute_result"
    }
   ],
   "source": [
    "df_ROS_extract_null['체중'].value_counts()"
   ]
  },
  {
   "cell_type": "code",
   "execution_count": 12,
   "id": "76408a99-4ca6-4211-ad2d-a2fc4a96c1fc",
   "metadata": {
    "tags": []
   },
   "outputs": [
    {
     "data": {
      "text/plain": [
       "170    112\n",
       "173     84\n",
       "175     82\n",
       "160     77\n",
       "174     76\n",
       "171     72\n",
       "168     72\n",
       "167     71\n",
       "172     71\n",
       "158     67\n",
       "176     62\n",
       "164     62\n",
       "161     58\n",
       "157     56\n",
       "180     56\n",
       "165     55\n",
       "177     53\n",
       "179     52\n",
       "162     50\n",
       "178     50\n",
       "166     49\n",
       "169     49\n",
       "163     47\n",
       "154     47\n",
       "159     39\n",
       "181     37\n",
       "153     37\n",
       "183     32\n",
       "155     30\n",
       "156     29\n",
       "182     25\n",
       "152     19\n",
       "185     16\n",
       "151     15\n",
       "184     13\n",
       "150     12\n",
       "149     11\n",
       "187      9\n",
       "186      9\n",
       "148      6\n",
       "188      4\n",
       "144      4\n",
       "145      3\n",
       "140      2\n",
       "143      2\n",
       "147      2\n",
       "189      2\n",
       "146      2\n",
       "142      1\n",
       "190      1\n",
       "191      1\n",
       "204      1\n",
       "Name: 신장, dtype: int64"
      ]
     },
     "execution_count": 12,
     "metadata": {},
     "output_type": "execute_result"
    }
   ],
   "source": [
    "df_ROS_extract_null['신장'].value_counts()"
   ]
  },
  {
   "cell_type": "code",
   "execution_count": 13,
   "id": "0e3cd90e-5263-4186-a87f-ed78e69a3ee1",
   "metadata": {
    "tags": []
   },
   "outputs": [
    {
     "data": {
      "text/plain": [
       "7     885\n",
       "8     410\n",
       "9     172\n",
       "2     130\n",
       "10    107\n",
       "1      52\n",
       "5      46\n",
       "3      44\n",
       "6      40\n",
       "4       8\n",
       "Name: 환자통증정도, dtype: int64"
      ]
     },
     "execution_count": 13,
     "metadata": {},
     "output_type": "execute_result"
    }
   ],
   "source": [
    "df_ROS_extract_null['환자통증정도'].value_counts()"
   ]
  },
  {
   "cell_type": "code",
   "execution_count": 14,
   "id": "ff800dab-6dcf-48c1-a5da-b15d5f200413",
   "metadata": {
    "tags": []
   },
   "outputs": [
    {
     "data": {
      "text/plain": [
       "1    1134\n",
       "0     760\n",
       "Name: 스테로이드치료, dtype: int64"
      ]
     },
     "execution_count": 14,
     "metadata": {},
     "output_type": "execute_result"
    }
   ],
   "source": [
    "df_ROS_extract_null['스테로이드치료'].value_counts()"
   ]
  },
  {
   "cell_type": "code",
   "execution_count": 15,
   "id": "94bd192b-bcd5-4939-890f-d6d157fc5a68",
   "metadata": {
    "tags": []
   },
   "outputs": [
    {
     "data": {
      "text/plain": [
       "TELD    1673\n",
       "IELD     140\n",
       "Name: 수술기법, dtype: int64"
      ]
     },
     "execution_count": 15,
     "metadata": {},
     "output_type": "execute_result"
    }
   ],
   "source": [
    "df_ROS_extract_null['수술기법'].value_counts()"
   ]
  },
  {
   "cell_type": "code",
   "execution_count": 16,
   "id": "55427641-afb1-4f91-8484-789c860f640e",
   "metadata": {
    "tags": []
   },
   "outputs": [
    {
     "data": {
      "text/plain": [
       "0    1499\n",
       "1     225\n",
       "2     162\n",
       "3       8\n",
       "Name: 과거수술횟수, dtype: int64"
      ]
     },
     "execution_count": 16,
     "metadata": {},
     "output_type": "execute_result"
    }
   ],
   "source": [
    "df_ROS_extract_null['과거수술횟수'].value_counts()"
   ]
  },
  {
   "cell_type": "markdown",
   "id": "ecfa831d-cae2-44a9-952c-fd3316121445",
   "metadata": {},
   "source": [
    "### 결측치 예측 훈련 모델 생성['수술기법']"
   ]
  },
  {
   "cell_type": "code",
   "execution_count": 17,
   "id": "a61ccf47-fb91-4a1b-b86e-3ed1b888fbf6",
   "metadata": {
    "tags": []
   },
   "outputs": [],
   "source": [
    "from sklearn.linear_model import LogisticRegression"
   ]
  },
  {
   "cell_type": "code",
   "execution_count": 18,
   "id": "5806bf3c-7007-4a4c-857e-7e770388ff26",
   "metadata": {
    "tags": []
   },
   "outputs": [
    {
     "data": {
      "text/plain": [
       "0       TELD\n",
       "1       TELD\n",
       "2       TELD\n",
       "3       TELD\n",
       "4       TELD\n",
       "        ... \n",
       "1889     NaN\n",
       "1890     NaN\n",
       "1891    IELD\n",
       "1892     NaN\n",
       "1893     NaN\n",
       "Name: 수술기법, Length: 1894, dtype: object"
      ]
     },
     "execution_count": 18,
     "metadata": {},
     "output_type": "execute_result"
    }
   ],
   "source": [
    "# 원본 데이터프레임에서 '수술기법' 열을 추출\n",
    "df_ROS_extract_null['수술기법']"
   ]
  },
  {
   "cell_type": "code",
   "execution_count": 21,
   "id": "f4c964b6-094c-49fe-a963-8659e678f648",
   "metadata": {
    "tags": []
   },
   "outputs": [],
   "source": [
    "# 결측치를 예측하는 함수\n",
    "def predict_surgery_method(row):\n",
    "    if pd.isnull(row['수술기법']):\n",
    "        # 결측치를 예측하기 위해 사용할 특성 선택 (이 예제에서는 다른 열을 모두 사용)\n",
    "        features = df_ROS_extract_null.columns.tolist()\n",
    "        features.remove('수술기법')  # 예측에 사용할 특성에서 '수술기법' 열 제외\n",
    "        X= df_ROS_extract_null.loc[row.name, features].values.reshape(1, -1)\n",
    "        \n",
    "        # 학습 데이터에서 수술기법이 결측치인 행 제외\n",
    "        df_train = df_ROS_extract_null.dropna(subset=['수술기법'])\n",
    "        \n",
    "        # 훈련용 데이터셋과 타겟 생성\n",
    "        X_train = df_train[features].values\n",
    "        y_train = df_train['수술기법'].values\n",
    "        \n",
    "        # 로지스틱 회귀 모델 훈련 (결측치 예측, 수술기법의 결측치를 대체하기 위한 용도)\n",
    "        model = LogisticRegression()\n",
    "        model.fit(X_train, y_train)\n",
    "        \n",
    "        # 결측치 대체를 위한 예측\n",
    "        predicted_nan = model.predict(X)\n",
    "        \n",
    "        # 예측 결과를 반환\n",
    "        return predicted_nan[0]\n",
    "    else:\n",
    "        return row['수술기법']"
   ]
  },
  {
   "cell_type": "code",
   "execution_count": 22,
   "id": "5d416b1c-60b6-4461-bbce-b37b60144e05",
   "metadata": {
    "tags": []
   },
   "outputs": [
    {
     "name": "stderr",
     "output_type": "stream",
     "text": [
<<<<<<< HEAD
      "C:\\Users\\5-20\\AppData\\Local\\Temp\\ipykernel_24452\\927473677.py:2: SettingWithCopyWarning: \n",
=======
      "C:\\Users\\04-02\\AppData\\Local\\Temp\\ipykernel_11996\\927473677.py:2: SettingWithCopyWarning: \n",
>>>>>>> 4c093df133dbfc613f9f40649a55cc9c0a17915f
      "A value is trying to be set on a copy of a slice from a DataFrame.\n",
      "Try using .loc[row_indexer,col_indexer] = value instead\n",
      "\n",
      "See the caveats in the documentation: https://pandas.pydata.org/pandas-docs/stable/user_guide/indexing.html#returning-a-view-versus-a-copy\n",
      "  df_ROS_extract_null.loc[:, '수술기법'] = df_ROS_extract_null.apply(lambda row: predict_surgery_method(row), axis=1)\n"
     ]
    }
   ],
   "source": [
    "# apply를 사용하여 함수 적용하여 결측치 처리\n",
    "df_ROS_extract_null.loc[:, '수술기법'] = df_ROS_extract_null.apply(lambda row: predict_surgery_method(row), axis=1)"
   ]
  },
  {
   "cell_type": "code",
   "execution_count": 23,
   "id": "1682ee08-ad8a-4cb5-a540-5a584b2ec5f7",
   "metadata": {
    "tags": []
   },
   "outputs": [
    {
     "data": {
      "text/plain": [
       "척추전방위증     0\n",
       "체중         0\n",
       "신장         0\n",
       "환자통증정도     0\n",
       "스테로이드치료    0\n",
       "수술기법       0\n",
       "과거수술횟수     0\n",
       "dtype: int64"
      ]
     },
     "execution_count": 23,
     "metadata": {},
     "output_type": "execute_result"
    }
   ],
   "source": [
    "df_ROS_extract_null.isnull().sum() "
   ]
  },
  {
   "cell_type": "code",
   "execution_count": 24,
   "id": "c5d5129b-5451-4ccd-867a-4796b9c6c3df",
   "metadata": {
    "tags": []
   },
   "outputs": [
    {
     "data": {
      "text/plain": [
       "TELD    1754\n",
       "IELD     140\n",
       "Name: 수술기법, dtype: int64"
      ]
     },
     "execution_count": 24,
     "metadata": {},
     "output_type": "execute_result"
    }
   ],
   "source": [
    "df_ROS_extract_null['수술기법'].value_counts()"
   ]
  },
  {
   "cell_type": "code",
   "execution_count": 25,
   "id": "2e1d05fa-dfd1-4786-8bcc-e40086044040",
   "metadata": {
    "tags": []
   },
   "outputs": [
    {
     "data": {
      "text/html": [
       "<div>\n",
       "<style scoped>\n",
       "    .dataframe tbody tr th:only-of-type {\n",
       "        vertical-align: middle;\n",
       "    }\n",
       "\n",
       "    .dataframe tbody tr th {\n",
       "        vertical-align: top;\n",
       "    }\n",
       "\n",
       "    .dataframe thead th {\n",
       "        text-align: right;\n",
       "    }\n",
       "</style>\n",
       "<table border=\"1\" class=\"dataframe\">\n",
       "  <thead>\n",
       "    <tr style=\"text-align: right;\">\n",
       "      <th></th>\n",
       "      <th>척추전방위증</th>\n",
       "      <th>체중</th>\n",
       "      <th>신장</th>\n",
       "      <th>환자통증정도</th>\n",
       "      <th>스테로이드치료</th>\n",
       "      <th>수술기법</th>\n",
       "      <th>과거수술횟수</th>\n",
       "    </tr>\n",
       "  </thead>\n",
       "  <tbody>\n",
       "    <tr>\n",
       "      <th>0</th>\n",
       "      <td>0</td>\n",
       "      <td>60.3</td>\n",
       "      <td>163</td>\n",
       "      <td>10</td>\n",
       "      <td>1</td>\n",
       "      <td>TELD</td>\n",
       "      <td>0</td>\n",
       "    </tr>\n",
       "    <tr>\n",
       "      <th>1</th>\n",
       "      <td>0</td>\n",
       "      <td>71.7</td>\n",
       "      <td>171</td>\n",
       "      <td>10</td>\n",
       "      <td>1</td>\n",
       "      <td>TELD</td>\n",
       "      <td>0</td>\n",
       "    </tr>\n",
       "  </tbody>\n",
       "</table>\n",
       "</div>"
      ],
      "text/plain": [
       "   척추전방위증    체중   신장  환자통증정도  스테로이드치료  수술기법  과거수술횟수\n",
       "0       0  60.3  163      10        1  TELD       0\n",
       "1       0  71.7  171      10        1  TELD       0"
      ]
     },
     "execution_count": 25,
     "metadata": {},
     "output_type": "execute_result"
    }
   ],
   "source": [
    "df_ROS_extract_null[:2]"
   ]
  },
  {
   "cell_type": "code",
   "execution_count": 26,
   "id": "bce4456a-a24a-4681-80fb-feb210317049",
   "metadata": {},
   "outputs": [
    {
     "name": "stdout",
     "output_type": "stream",
     "text": [
      "Requirement already satisfied: imbalanced-learn in c:\\users\\04-02\\anaconda3\\lib\\site-packages (0.10.1)\n",
      "Requirement already satisfied: numpy>=1.17.3 in c:\\users\\04-02\\anaconda3\\lib\\site-packages (from imbalanced-learn) (1.24.3)\n",
      "Requirement already satisfied: scipy>=1.3.2 in c:\\users\\04-02\\anaconda3\\lib\\site-packages (from imbalanced-learn) (1.10.1)\n",
      "Requirement already satisfied: scikit-learn>=1.0.2 in c:\\users\\04-02\\anaconda3\\lib\\site-packages (from imbalanced-learn) (1.2.2)\n",
      "Requirement already satisfied: joblib>=1.1.1 in c:\\users\\04-02\\anaconda3\\lib\\site-packages (from imbalanced-learn) (1.2.0)\n",
      "Requirement already satisfied: threadpoolctl>=2.0.0 in c:\\users\\04-02\\anaconda3\\lib\\site-packages (from imbalanced-learn) (2.2.0)\n",
      "Note: you may need to restart the kernel to use updated packages.\n"
     ]
    }
   ],
   "source": [
    "pip install imbalanced-learn"
   ]
  },
  {
   "cell_type": "code",
   "execution_count": 50,
   "id": "5b2cdeec-2fd2-4a46-b29d-ff086fffa7e6",
   "metadata": {
    "tags": []
   },
   "outputs": [],
   "source": [
    "from sklearn.model_selection import train_test_split\n",
    "from sklearn.metrics import accuracy_score\n",
    "from sklearn.metrics import f1_score\n",
    "from imblearn.under_sampling import TomekLinks\n",
    "from collections import Counter "
   ]
  },
  {
   "cell_type": "code",
   "execution_count": 51,
   "id": "04f58ccb-e67a-4f6a-a321-dcce4340ef2a",
   "metadata": {
    "tags": []
   },
   "outputs": [],
   "source": [
    "# 수술기법이 결측치인 행 추출\n",
    "nan_rows = df_ROS_extract_null[pd.isnull(df_ROS_extract_null['수술기법'])]"
   ]
  },
  {
   "cell_type": "code",
   "execution_count": 52,
   "id": "73426430-08f7-4f66-9e1a-2fe3e4e9c014",
   "metadata": {},
   "outputs": [],
   "source": [
    "# 결측치가 아닌 행 추출\n",
    "not_nan_rows = df_ROS_extract_null.dropna(subset=['수술기법'])"
   ]
  },
  {
   "cell_type": "code",
   "execution_count": 53,
   "id": "cac939a2-00d2-4b43-bf6c-b40f7857a71c",
   "metadata": {},
   "outputs": [],
   "source": [
    "# Features와 Target 설정\n",
    "features = not_nan_rows.drop(columns=['수술기법'])\n",
    "target = not_nan_rows['수술기법']"
   ]
  },
  {
   "cell_type": "code",
   "execution_count": 57,
   "id": "308c0cc2-3321-4a27-9f94-f76d843ca1c8",
   "metadata": {
    "tags": []
   },
   "outputs": [
    {
     "data": {
      "text/plain": [
       "Counter({'TELD': 1754, 'IELD': 140})"
      ]
     },
     "execution_count": 57,
     "metadata": {},
     "output_type": "execute_result"
    }
   ],
   "source": [
    "Counter(target)"
   ]
  },
  {
   "cell_type": "code",
   "execution_count": 58,
   "id": "891648a6-fd50-4cd1-8244-b57dde11d4cd",
   "metadata": {},
   "outputs": [],
   "source": [
    "# Tomek's Link 언더샘플링을 적용\n",
    "tomekLinks = TomekLinks(sampling_strategy='majority')\n",
    "features_resample, target_resample = tomekLinks.fit_resample(features, target)"
   ]
  },
  {
   "cell_type": "code",
   "execution_count": 59,
   "id": "57c93fd7-d386-4d3d-84e4-e89b092cfd11",
   "metadata": {
    "tags": []
   },
   "outputs": [
    {
     "data": {
      "text/plain": [
       "((1836, 6), (1836,))"
      ]
     },
     "execution_count": 59,
     "metadata": {},
     "output_type": "execute_result"
    }
   ],
   "source": [
    "features_resample.shape, target_resample.shape"
   ]
  },
  {
   "cell_type": "code",
   "execution_count": 60,
   "id": "b041c220-6ccf-4b91-93ce-7956bb7f2813",
   "metadata": {
    "tags": []
   },
   "outputs": [
    {
     "data": {
      "text/plain": [
       "Counter({'TELD': 1696, 'IELD': 140})"
      ]
     },
     "execution_count": 60,
     "metadata": {},
     "output_type": "execute_result"
    }
   ],
   "source": [
    "Counter(target_resample)"
   ]
  },
  {
   "cell_type": "code",
   "execution_count": 43,
   "id": "22436043-95d3-49ac-89c4-aa7cd1723d0b",
   "metadata": {},
   "outputs": [],
   "source": [
    "# 데이터 분할 (70% 학습, 30% 테스트)\n",
    "features_train, features_test, target_train, target_test = train_test_split(features_resampled, target_resampled, test_size=0.3, random_state=42)"
   ]
  },
  {
   "cell_type": "code",
   "execution_count": 44,
   "id": "7321be1f-991e-4c9e-aec6-0005a6568e48",
   "metadata": {},
   "outputs": [
    {
     "name": "stderr",
     "output_type": "stream",
     "text": [
      "C:\\Users\\5-20\\anaconda3\\Lib\\site-packages\\sklearn\\linear_model\\_logistic.py:458: ConvergenceWarning: lbfgs failed to converge (status=1):\n",
      "STOP: TOTAL NO. of ITERATIONS REACHED LIMIT.\n",
      "\n",
      "Increase the number of iterations (max_iter) or scale the data as shown in:\n",
      "    https://scikit-learn.org/stable/modules/preprocessing.html\n",
      "Please also refer to the documentation for alternative solver options:\n",
      "    https://scikit-learn.org/stable/modules/linear_model.html#logistic-regression\n",
      "  n_iter_i = _check_optimize_result(\n"
     ]
    },
    {
     "data": {
      "text/html": [
       "<style>#sk-container-id-1 {color: black;background-color: white;}#sk-container-id-1 pre{padding: 0;}#sk-container-id-1 div.sk-toggleable {background-color: white;}#sk-container-id-1 label.sk-toggleable__label {cursor: pointer;display: block;width: 100%;margin-bottom: 0;padding: 0.3em;box-sizing: border-box;text-align: center;}#sk-container-id-1 label.sk-toggleable__label-arrow:before {content: \"▸\";float: left;margin-right: 0.25em;color: #696969;}#sk-container-id-1 label.sk-toggleable__label-arrow:hover:before {color: black;}#sk-container-id-1 div.sk-estimator:hover label.sk-toggleable__label-arrow:before {color: black;}#sk-container-id-1 div.sk-toggleable__content {max-height: 0;max-width: 0;overflow: hidden;text-align: left;background-color: #f0f8ff;}#sk-container-id-1 div.sk-toggleable__content pre {margin: 0.2em;color: black;border-radius: 0.25em;background-color: #f0f8ff;}#sk-container-id-1 input.sk-toggleable__control:checked~div.sk-toggleable__content {max-height: 200px;max-width: 100%;overflow: auto;}#sk-container-id-1 input.sk-toggleable__control:checked~label.sk-toggleable__label-arrow:before {content: \"▾\";}#sk-container-id-1 div.sk-estimator input.sk-toggleable__control:checked~label.sk-toggleable__label {background-color: #d4ebff;}#sk-container-id-1 div.sk-label input.sk-toggleable__control:checked~label.sk-toggleable__label {background-color: #d4ebff;}#sk-container-id-1 input.sk-hidden--visually {border: 0;clip: rect(1px 1px 1px 1px);clip: rect(1px, 1px, 1px, 1px);height: 1px;margin: -1px;overflow: hidden;padding: 0;position: absolute;width: 1px;}#sk-container-id-1 div.sk-estimator {font-family: monospace;background-color: #f0f8ff;border: 1px dotted black;border-radius: 0.25em;box-sizing: border-box;margin-bottom: 0.5em;}#sk-container-id-1 div.sk-estimator:hover {background-color: #d4ebff;}#sk-container-id-1 div.sk-parallel-item::after {content: \"\";width: 100%;border-bottom: 1px solid gray;flex-grow: 1;}#sk-container-id-1 div.sk-label:hover label.sk-toggleable__label {background-color: #d4ebff;}#sk-container-id-1 div.sk-serial::before {content: \"\";position: absolute;border-left: 1px solid gray;box-sizing: border-box;top: 0;bottom: 0;left: 50%;z-index: 0;}#sk-container-id-1 div.sk-serial {display: flex;flex-direction: column;align-items: center;background-color: white;padding-right: 0.2em;padding-left: 0.2em;position: relative;}#sk-container-id-1 div.sk-item {position: relative;z-index: 1;}#sk-container-id-1 div.sk-parallel {display: flex;align-items: stretch;justify-content: center;background-color: white;position: relative;}#sk-container-id-1 div.sk-item::before, #sk-container-id-1 div.sk-parallel-item::before {content: \"\";position: absolute;border-left: 1px solid gray;box-sizing: border-box;top: 0;bottom: 0;left: 50%;z-index: -1;}#sk-container-id-1 div.sk-parallel-item {display: flex;flex-direction: column;z-index: 1;position: relative;background-color: white;}#sk-container-id-1 div.sk-parallel-item:first-child::after {align-self: flex-end;width: 50%;}#sk-container-id-1 div.sk-parallel-item:last-child::after {align-self: flex-start;width: 50%;}#sk-container-id-1 div.sk-parallel-item:only-child::after {width: 0;}#sk-container-id-1 div.sk-dashed-wrapped {border: 1px dashed gray;margin: 0 0.4em 0.5em 0.4em;box-sizing: border-box;padding-bottom: 0.4em;background-color: white;}#sk-container-id-1 div.sk-label label {font-family: monospace;font-weight: bold;display: inline-block;line-height: 1.2em;}#sk-container-id-1 div.sk-label-container {text-align: center;}#sk-container-id-1 div.sk-container {/* jupyter's `normalize.less` sets `[hidden] { display: none; }` but bootstrap.min.css set `[hidden] { display: none !important; }` so we also need the `!important` here to be able to override the default hidden behavior on the sphinx rendered scikit-learn.org. See: https://github.com/scikit-learn/scikit-learn/issues/21755 */display: inline-block !important;position: relative;}#sk-container-id-1 div.sk-text-repr-fallback {display: none;}</style><div id=\"sk-container-id-1\" class=\"sk-top-container\"><div class=\"sk-text-repr-fallback\"><pre>LogisticRegression()</pre><b>In a Jupyter environment, please rerun this cell to show the HTML representation or trust the notebook. <br />On GitHub, the HTML representation is unable to render, please try loading this page with nbviewer.org.</b></div><div class=\"sk-container\" hidden><div class=\"sk-item\"><div class=\"sk-estimator sk-toggleable\"><input class=\"sk-toggleable__control sk-hidden--visually\" id=\"sk-estimator-id-1\" type=\"checkbox\" checked><label for=\"sk-estimator-id-1\" class=\"sk-toggleable__label sk-toggleable__label-arrow\">LogisticRegression</label><div class=\"sk-toggleable__content\"><pre>LogisticRegression()</pre></div></div></div></div></div>"
      ],
      "text/plain": [
       "LogisticRegression()"
      ]
     },
     "execution_count": 44,
     "metadata": {},
     "output_type": "execute_result"
    }
   ],
   "source": [
    "# 로지스틱 회귀 모델 생성 및 학습 (모델 평가, 결측치 예측 모델 평가를 위해 사용)\n",
    "model = LogisticRegression()\n",
    "model.fit(features_train, target_train)"
   ]
  },
  {
   "cell_type": "code",
   "execution_count": 45,
   "id": "b03dcce4-f3da-4515-b77c-f6a66e41ff5d",
   "metadata": {},
   "outputs": [],
   "source": [
    "# 모델을 사용하여 결측치 예측\n",
    "predicted_nan_values = nan_rows.apply(predict_surgery_method, axis=1)"
   ]
  },
  {
   "cell_type": "code",
   "execution_count": 46,
   "id": "b38c4d2f-3d40-46a4-b4f7-87c8fe4478bc",
   "metadata": {},
   "outputs": [],
   "source": [
    "# 결측치 예측 결과를 원본 데이터프레임에 할당\n",
    "df_ROS_extract_null.loc[nan_rows.index, '수술기법'] = predicted_nan_values"
   ]
  },
  {
   "cell_type": "code",
<<<<<<< HEAD
   "execution_count": 29,
=======
   "execution_count": 31,
>>>>>>> 4c093df133dbfc613f9f40649a55cc9c0a17915f
   "id": "3bcdeaf0-e4b5-4cb2-a276-aa070b211c88",
   "metadata": {},
   "outputs": [
    {
     "name": "stdout",
     "output_type": "stream",
     "text": [
      "결측치 예측 모델 정확도: 0.9201451905626135\n"
     ]
    }
   ],
   "source": [
    "# 결측치 예측 모델 평가 accuracy \n",
    "target_pred = model.predict(features_test)\n",
    "accuracy = accuracy_score(target_test, target_pred)\n",
    "print(\"결측치 예측 모델 정확도:\", accuracy)"
   ]
  },
  {
   "cell_type": "code",
   "execution_count": 61,
   "id": "9a6ee057-0b8c-4200-95f6-de3c8ab4beb0",
   "metadata": {
    "tags": []
   },
   "outputs": [
    {
     "name": "stdout",
     "output_type": "stream",
     "text": [
      "결측치 예측 모델 F1 점수: 0.8818782828265501\n"
     ]
    }
   ],
   "source": [
    "# 결측치 예측 모델 평가 - F1 점수 계산\n",
    "target_pred = model.predict(features_test)\n",
    "f1 = f1_score(target_test, target_pred, average='weighted')\n",
    "print(\"결측치 예측 모델 F1 점수:\", f1)"
   ]
  },
  {
   "cell_type": "markdown",
   "id": "87bfcdb1-b918-4be6-b311-2b78743195d8",
   "metadata": {},
   "source": [
    "### 신장, 체중 이상치 제거"
   ]
  },
  {
   "cell_type": "code",
   "execution_count": 33,
   "id": "5dda0943-fcb0-46b3-ab87-76255e00f89e",
   "metadata": {},
   "outputs": [],
   "source": [
    "import matplotlib.pyplot as plt"
   ]
  },
  {
   "cell_type": "code",
   "execution_count": 34,
   "id": "dfea3579-8059-42c0-8253-3b7aad4ea5a6",
   "metadata": {},
   "outputs": [
    {
     "data": {
      "image/png": "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",
      "text/plain": [
       "<Figure size 640x480 with 1 Axes>"
      ]
     },
     "metadata": {},
     "output_type": "display_data"
    }
   ],
   "source": [
    "# 신장 데이터에 대한 상자 그림\n",
    "plt.boxplot(df_ROS_extract_null['신장'])\n",
    "plt.title('Box Plot for Height')\n",
    "plt.ylabel('Height (cm)')\n",
    "plt.show()"
   ]
  },
  {
   "cell_type": "code",
   "execution_count": 35,
   "id": "fd90f9a4-c99c-481e-bfb9-db44e7491ed4",
   "metadata": {},
   "outputs": [
    {
     "data": {
      "image/png": "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",
      "text/plain": [
       "<Figure size 640x480 with 1 Axes>"
      ]
     },
     "metadata": {},
     "output_type": "display_data"
    }
   ],
   "source": [
    "# 체중 데이터에 대한 상자 그림\n",
    "plt.boxplot(df_ROS_extract_null['체중'])\n",
    "plt.title('Box Plot for Weight')\n",
    "plt.ylabel('Weight (kg)')\n",
    "plt.show()"
   ]
  },
  {
   "cell_type": "code",
   "execution_count": 62,
   "id": "9e4da33a-074d-4266-bb1f-79daed203382",
   "metadata": {},
   "outputs": [],
   "source": [
    "def remove_outliers(df, column_name):\n",
    "    Q1 = df[column_name].quantile(0.25)\n",
    "    Q3 = df[column_name].quantile(0.75)\n",
    "    IQR = Q3 - Q1\n",
    "    lower_bound = Q1 - 1.5 * IQR\n",
    "    upper_bound = Q3 + 1.5 * IQR\n",
    "    \n",
    "    df_cleaned = df[(df[column_name] >= lower_bound) & (df[column_name] <= upper_bound)]\n",
    "    \n",
    "    return df_cleaned"
   ]
  },
  {
   "cell_type": "code",
   "execution_count": 65,
   "id": "120afb8a-e8d6-4d88-8d65-c36ea031b023",
   "metadata": {},
   "outputs": [],
   "source": [
    "# \"신장\" 열의 이상치 제거\n",
    "df_ROS_extract_null = remove_outliers(df_ROS_extract_null, '신장')"
   ]
  },
  {
   "cell_type": "code",
   "execution_count": 66,
   "id": "846b9b50-7cbd-4e5d-a347-05ea3dfadf19",
   "metadata": {},
   "outputs": [],
   "source": [
    "# \"체중\" 열의 이상치 제거\n",
    "df_ROS_extract_null = remove_outliers(df_ROS_extract_null, '체중')"
   ]
  },
  {
   "cell_type": "code",
   "execution_count": 67,
   "id": "0f41007e-4a25-46ce-9f47-8ebdcd20dfed",
   "metadata": {
    "tags": []
   },
   "outputs": [
    {
     "data": {
      "text/html": [
       "<div>\n",
       "<style scoped>\n",
       "    .dataframe tbody tr th:only-of-type {\n",
       "        vertical-align: middle;\n",
       "    }\n",
       "\n",
       "    .dataframe tbody tr th {\n",
       "        vertical-align: top;\n",
       "    }\n",
       "\n",
       "    .dataframe thead th {\n",
       "        text-align: right;\n",
       "    }\n",
       "</style>\n",
       "<table border=\"1\" class=\"dataframe\">\n",
       "  <thead>\n",
       "    <tr style=\"text-align: right;\">\n",
       "      <th></th>\n",
       "      <th>척추전방위증</th>\n",
       "      <th>체중</th>\n",
       "      <th>신장</th>\n",
       "      <th>환자통증정도</th>\n",
       "      <th>스테로이드치료</th>\n",
       "      <th>수술기법</th>\n",
       "      <th>과거수술횟수</th>\n",
       "    </tr>\n",
       "  </thead>\n",
       "  <tbody>\n",
       "    <tr>\n",
       "      <th>0</th>\n",
       "      <td>0</td>\n",
       "      <td>60.3</td>\n",
       "      <td>163</td>\n",
       "      <td>10</td>\n",
       "      <td>1</td>\n",
       "      <td>TELD</td>\n",
       "      <td>0</td>\n",
       "    </tr>\n",
       "    <tr>\n",
       "      <th>1</th>\n",
       "      <td>0</td>\n",
       "      <td>71.7</td>\n",
       "      <td>171</td>\n",
       "      <td>10</td>\n",
       "      <td>1</td>\n",
       "      <td>TELD</td>\n",
       "      <td>0</td>\n",
       "    </tr>\n",
       "    <tr>\n",
       "      <th>2</th>\n",
       "      <td>0</td>\n",
       "      <td>77.1</td>\n",
       "      <td>178</td>\n",
       "      <td>7</td>\n",
       "      <td>1</td>\n",
       "      <td>TELD</td>\n",
       "      <td>1</td>\n",
       "    </tr>\n",
       "    <tr>\n",
       "      <th>3</th>\n",
       "      <td>0</td>\n",
       "      <td>74.2</td>\n",
       "      <td>174</td>\n",
       "      <td>7</td>\n",
       "      <td>0</td>\n",
       "      <td>TELD</td>\n",
       "      <td>0</td>\n",
       "    </tr>\n",
       "    <tr>\n",
       "      <th>4</th>\n",
       "      <td>0</td>\n",
       "      <td>80.7</td>\n",
       "      <td>183</td>\n",
       "      <td>7</td>\n",
       "      <td>1</td>\n",
       "      <td>TELD</td>\n",
       "      <td>0</td>\n",
       "    </tr>\n",
       "    <tr>\n",
       "      <th>...</th>\n",
       "      <td>...</td>\n",
       "      <td>...</td>\n",
       "      <td>...</td>\n",
       "      <td>...</td>\n",
       "      <td>...</td>\n",
       "      <td>...</td>\n",
       "      <td>...</td>\n",
       "    </tr>\n",
       "    <tr>\n",
       "      <th>1889</th>\n",
       "      <td>0</td>\n",
       "      <td>64.0</td>\n",
       "      <td>157</td>\n",
       "      <td>7</td>\n",
       "      <td>1</td>\n",
       "      <td>TELD</td>\n",
       "      <td>0</td>\n",
       "    </tr>\n",
       "    <tr>\n",
       "      <th>1890</th>\n",
       "      <td>0</td>\n",
       "      <td>59.0</td>\n",
       "      <td>157</td>\n",
       "      <td>7</td>\n",
       "      <td>1</td>\n",
       "      <td>TELD</td>\n",
       "      <td>0</td>\n",
       "    </tr>\n",
       "    <tr>\n",
       "      <th>1891</th>\n",
       "      <td>0</td>\n",
       "      <td>70.0</td>\n",
       "      <td>167</td>\n",
       "      <td>7</td>\n",
       "      <td>1</td>\n",
       "      <td>IELD</td>\n",
       "      <td>0</td>\n",
       "    </tr>\n",
       "    <tr>\n",
       "      <th>1892</th>\n",
       "      <td>0</td>\n",
       "      <td>77.0</td>\n",
       "      <td>177</td>\n",
       "      <td>7</td>\n",
       "      <td>1</td>\n",
       "      <td>TELD</td>\n",
       "      <td>0</td>\n",
       "    </tr>\n",
       "    <tr>\n",
       "      <th>1893</th>\n",
       "      <td>0</td>\n",
       "      <td>49.0</td>\n",
       "      <td>168</td>\n",
       "      <td>8</td>\n",
       "      <td>1</td>\n",
       "      <td>TELD</td>\n",
       "      <td>0</td>\n",
       "    </tr>\n",
       "  </tbody>\n",
       "</table>\n",
       "<p>1861 rows × 7 columns</p>\n",
       "</div>"
      ],
      "text/plain": [
       "      척추전방위증    체중   신장  환자통증정도  스테로이드치료  수술기법  과거수술횟수\n",
       "0          0  60.3  163      10        1  TELD       0\n",
       "1          0  71.7  171      10        1  TELD       0\n",
       "2          0  77.1  178       7        1  TELD       1\n",
       "3          0  74.2  174       7        0  TELD       0\n",
       "4          0  80.7  183       7        1  TELD       0\n",
       "...      ...   ...  ...     ...      ...   ...     ...\n",
       "1889       0  64.0  157       7        1  TELD       0\n",
       "1890       0  59.0  157       7        1  TELD       0\n",
       "1891       0  70.0  167       7        1  IELD       0\n",
       "1892       0  77.0  177       7        1  TELD       0\n",
       "1893       0  49.0  168       8        1  TELD       0\n",
       "\n",
       "[1861 rows x 7 columns]"
      ]
     },
     "execution_count": 67,
     "metadata": {},
     "output_type": "execute_result"
    }
   ],
   "source": [
    "df_ROS_extract_null"
   ]
  },
  {
   "cell_type": "markdown",
   "id": "5a85f29c-7e21-4bc1-93b2-225c1e717cf5",
   "metadata": {},
   "source": [
    "### Scaling & Encoding"
   ]
  },
  {
   "cell_type": "code",
<<<<<<< HEAD
   "execution_count": 30,
=======
   "execution_count": 39,
>>>>>>> 4c093df133dbfc613f9f40649a55cc9c0a17915f
   "id": "b3538db1-32e8-41bf-9c34-bab4be659cc7",
   "metadata": {
    "tags": []
   },
   "outputs": [
    {
     "data": {
      "text/plain": [
       "척추전방위증  체중    신장   환자통증정도  스테로이드치료  수술기법  과거수술횟수\n",
       "0       73.8  174  7       1        TELD  0         4\n",
       "        63.0  160  7       1        TELD  0         3\n",
       "        70.0  167  7       1        TELD  0         3\n",
       "        69.5  168  7       1        TELD  0         3\n",
       "        69.0  171  7       1        TELD  0         3\n",
       "                                                   ..\n",
       "        63.0  162  8       0        TELD  2         1\n",
       "              161  7       0        TELD  0         1\n",
       "              159  7       1        TELD  1         1\n",
       "                   1       1        TELD  0         1\n",
       "1       93.0  175  8       0        TELD  0         1\n",
       "Length: 1746, dtype: int64"
      ]
     },
<<<<<<< HEAD
     "execution_count": 30,
=======
     "execution_count": 39,
>>>>>>> 4c093df133dbfc613f9f40649a55cc9c0a17915f
     "metadata": {},
     "output_type": "execute_result"
    }
   ],
   "source": [
    "df_ROS_extract_null.value_counts()"
   ]
  },
  {
   "cell_type": "code",
<<<<<<< HEAD
   "execution_count": 31,
=======
   "execution_count": 40,
>>>>>>> 4c093df133dbfc613f9f40649a55cc9c0a17915f
   "id": "04cb4c9e-1976-48c0-9be5-37c317b3f5b7",
   "metadata": {
    "tags": []
   },
   "outputs": [
    {
     "data": {
      "text/plain": [
       "(1894, 7)"
      ]
     },
<<<<<<< HEAD
     "execution_count": 31,
=======
     "execution_count": 40,
>>>>>>> 4c093df133dbfc613f9f40649a55cc9c0a17915f
     "metadata": {},
     "output_type": "execute_result"
    }
   ],
   "source": [
    "df_ROS_extract_null.shape"
   ]
  },
  {
   "cell_type": "markdown",
   "id": "efad068b-1aa1-4b91-93ef-1a90e07cc141",
   "metadata": {},
   "source": [
    "### OneHotEncoding : 수술기법  범주형 데이터를 수치형 데이터로 변환"
   ]
  },
  {
   "cell_type": "code",
   "execution_count": 41,
   "id": "a9b99fd1-2cae-400a-a8e0-9b6ec243d28e",
   "metadata": {
    "tags": []
   },
   "outputs": [],
   "source": [
    "from sklearn.preprocessing import OneHotEncoder"
   ]
  },
  {
   "cell_type": "code",
   "execution_count": 42,
   "id": "0c586948-f286-4de9-b406-3fdc0806c884",
   "metadata": {
    "tags": []
   },
   "outputs": [
    {
     "data": {
      "text/html": [
       "<style>#sk-container-id-2 {color: black;background-color: white;}#sk-container-id-2 pre{padding: 0;}#sk-container-id-2 div.sk-toggleable {background-color: white;}#sk-container-id-2 label.sk-toggleable__label {cursor: pointer;display: block;width: 100%;margin-bottom: 0;padding: 0.3em;box-sizing: border-box;text-align: center;}#sk-container-id-2 label.sk-toggleable__label-arrow:before {content: \"▸\";float: left;margin-right: 0.25em;color: #696969;}#sk-container-id-2 label.sk-toggleable__label-arrow:hover:before {color: black;}#sk-container-id-2 div.sk-estimator:hover label.sk-toggleable__label-arrow:before {color: black;}#sk-container-id-2 div.sk-toggleable__content {max-height: 0;max-width: 0;overflow: hidden;text-align: left;background-color: #f0f8ff;}#sk-container-id-2 div.sk-toggleable__content pre {margin: 0.2em;color: black;border-radius: 0.25em;background-color: #f0f8ff;}#sk-container-id-2 input.sk-toggleable__control:checked~div.sk-toggleable__content {max-height: 200px;max-width: 100%;overflow: auto;}#sk-container-id-2 input.sk-toggleable__control:checked~label.sk-toggleable__label-arrow:before {content: \"▾\";}#sk-container-id-2 div.sk-estimator input.sk-toggleable__control:checked~label.sk-toggleable__label {background-color: #d4ebff;}#sk-container-id-2 div.sk-label input.sk-toggleable__control:checked~label.sk-toggleable__label {background-color: #d4ebff;}#sk-container-id-2 input.sk-hidden--visually {border: 0;clip: rect(1px 1px 1px 1px);clip: rect(1px, 1px, 1px, 1px);height: 1px;margin: -1px;overflow: hidden;padding: 0;position: absolute;width: 1px;}#sk-container-id-2 div.sk-estimator {font-family: monospace;background-color: #f0f8ff;border: 1px dotted black;border-radius: 0.25em;box-sizing: border-box;margin-bottom: 0.5em;}#sk-container-id-2 div.sk-estimator:hover {background-color: #d4ebff;}#sk-container-id-2 div.sk-parallel-item::after {content: \"\";width: 100%;border-bottom: 1px solid gray;flex-grow: 1;}#sk-container-id-2 div.sk-label:hover label.sk-toggleable__label {background-color: #d4ebff;}#sk-container-id-2 div.sk-serial::before {content: \"\";position: absolute;border-left: 1px solid gray;box-sizing: border-box;top: 0;bottom: 0;left: 50%;z-index: 0;}#sk-container-id-2 div.sk-serial {display: flex;flex-direction: column;align-items: center;background-color: white;padding-right: 0.2em;padding-left: 0.2em;position: relative;}#sk-container-id-2 div.sk-item {position: relative;z-index: 1;}#sk-container-id-2 div.sk-parallel {display: flex;align-items: stretch;justify-content: center;background-color: white;position: relative;}#sk-container-id-2 div.sk-item::before, #sk-container-id-2 div.sk-parallel-item::before {content: \"\";position: absolute;border-left: 1px solid gray;box-sizing: border-box;top: 0;bottom: 0;left: 50%;z-index: -1;}#sk-container-id-2 div.sk-parallel-item {display: flex;flex-direction: column;z-index: 1;position: relative;background-color: white;}#sk-container-id-2 div.sk-parallel-item:first-child::after {align-self: flex-end;width: 50%;}#sk-container-id-2 div.sk-parallel-item:last-child::after {align-self: flex-start;width: 50%;}#sk-container-id-2 div.sk-parallel-item:only-child::after {width: 0;}#sk-container-id-2 div.sk-dashed-wrapped {border: 1px dashed gray;margin: 0 0.4em 0.5em 0.4em;box-sizing: border-box;padding-bottom: 0.4em;background-color: white;}#sk-container-id-2 div.sk-label label {font-family: monospace;font-weight: bold;display: inline-block;line-height: 1.2em;}#sk-container-id-2 div.sk-label-container {text-align: center;}#sk-container-id-2 div.sk-container {/* jupyter's `normalize.less` sets `[hidden] { display: none; }` but bootstrap.min.css set `[hidden] { display: none !important; }` so we also need the `!important` here to be able to override the default hidden behavior on the sphinx rendered scikit-learn.org. See: https://github.com/scikit-learn/scikit-learn/issues/21755 */display: inline-block !important;position: relative;}#sk-container-id-2 div.sk-text-repr-fallback {display: none;}</style><div id=\"sk-container-id-2\" class=\"sk-top-container\"><div class=\"sk-text-repr-fallback\"><pre>OneHotEncoder()</pre><b>In a Jupyter environment, please rerun this cell to show the HTML representation or trust the notebook. <br />On GitHub, the HTML representation is unable to render, please try loading this page with nbviewer.org.</b></div><div class=\"sk-container\" hidden><div class=\"sk-item\"><div class=\"sk-estimator sk-toggleable\"><input class=\"sk-toggleable__control sk-hidden--visually\" id=\"sk-estimator-id-2\" type=\"checkbox\" checked><label for=\"sk-estimator-id-2\" class=\"sk-toggleable__label sk-toggleable__label-arrow\">OneHotEncoder</label><div class=\"sk-toggleable__content\"><pre>OneHotEncoder()</pre></div></div></div></div></div>"
      ],
      "text/plain": [
       "OneHotEncoder()"
      ]
     },
     "execution_count": 42,
     "metadata": {},
     "output_type": "execute_result"
    }
   ],
   "source": [
    "oneHotEncoder = OneHotEncoder()\n",
    "oneHotEncoder.fit(df_ROS_extract_null[['수술기법']]) "
   ]
  },
  {
   "cell_type": "code",
   "execution_count": 43,
   "id": "0ae8afb7-6894-4a1a-b6a1-4162cf51c2b9",
   "metadata": {
    "tags": []
   },
   "outputs": [],
   "source": [
    "columns_name = oneHotEncoder.categories_"
   ]
  },
  {
   "cell_type": "code",
   "execution_count": 44,
   "id": "3ce1b665-7f02-48f1-92f6-9f4179cb0004",
   "metadata": {
    "tags": []
   },
   "outputs": [],
   "source": [
    "# oneHotEncoder.transform(df_TFD_extract_preprocess[['Pclass']]).toarray() # 실제값 확인용\n",
    "encoded_data = oneHotEncoder.transform(df_ROS_extract_null[['수술기법']]).toarray()"
   ]
  },
  {
   "cell_type": "code",
   "execution_count": 45,
   "id": "eaefdd1c-3f43-4869-b63f-85ed1c9aaaf9",
   "metadata": {
    "tags": []
   },
   "outputs": [
    {
     "data": {
      "text/plain": [
       "(1894, 2)"
      ]
     },
     "execution_count": 45,
     "metadata": {},
     "output_type": "execute_result"
    }
   ],
   "source": [
    "encoded_data.shape"
   ]
  },
  {
   "cell_type": "code",
<<<<<<< HEAD
   "execution_count": 37,
=======
   "execution_count": 46,
>>>>>>> 4c093df133dbfc613f9f40649a55cc9c0a17915f
   "id": "fd085917-5a44-4c3b-8913-595a4038c91e",
   "metadata": {
    "tags": []
   },
   "outputs": [
    {
     "data": {
      "text/html": [
       "<div>\n",
       "<style scoped>\n",
       "    .dataframe tbody tr th:only-of-type {\n",
       "        vertical-align: middle;\n",
       "    }\n",
       "\n",
       "    .dataframe tbody tr th {\n",
       "        vertical-align: top;\n",
       "    }\n",
       "\n",
       "    .dataframe thead th {\n",
       "        text-align: right;\n",
       "    }\n",
       "</style>\n",
       "<table border=\"1\" class=\"dataframe\">\n",
       "  <thead>\n",
       "    <tr style=\"text-align: right;\">\n",
       "      <th></th>\n",
       "      <th>수술기법_IELD</th>\n",
       "      <th>수술기법_TELD</th>\n",
       "    </tr>\n",
       "  </thead>\n",
       "  <tbody>\n",
       "    <tr>\n",
       "      <th>0</th>\n",
       "      <td>0.0</td>\n",
       "      <td>1.0</td>\n",
       "    </tr>\n",
       "    <tr>\n",
       "      <th>1</th>\n",
       "      <td>0.0</td>\n",
       "      <td>1.0</td>\n",
       "    </tr>\n",
       "  </tbody>\n",
       "</table>\n",
       "</div>"
      ],
      "text/plain": [
       "   수술기법_IELD  수술기법_TELD\n",
       "0        0.0        1.0\n",
       "1        0.0        1.0"
      ]
     },
<<<<<<< HEAD
     "execution_count": 37,
=======
     "execution_count": 46,
>>>>>>> 4c093df133dbfc613f9f40649a55cc9c0a17915f
     "metadata": {},
     "output_type": "execute_result"
    }
   ],
   "source": [
    "# 병합 위해 numpy array to DataFrame\n",
    "df_encoded_data = pd.DataFrame(data=encoded_data, columns=oneHotEncoder.get_feature_names_out(['수술기법']))\n",
    "df_encoded_data[:2]"
   ]
  },
  {
   "cell_type": "code",
<<<<<<< HEAD
   "execution_count": 38,
=======
   "execution_count": 47,
>>>>>>> 4c093df133dbfc613f9f40649a55cc9c0a17915f
   "id": "556c06f0-814b-4aa4-847e-4970ab7e9c6c",
   "metadata": {
    "tags": []
   },
   "outputs": [
    {
     "data": {
      "text/html": [
       "<div>\n",
       "<style scoped>\n",
       "    .dataframe tbody tr th:only-of-type {\n",
       "        vertical-align: middle;\n",
       "    }\n",
       "\n",
       "    .dataframe tbody tr th {\n",
       "        vertical-align: top;\n",
       "    }\n",
       "\n",
       "    .dataframe thead th {\n",
       "        text-align: right;\n",
       "    }\n",
       "</style>\n",
       "<table border=\"1\" class=\"dataframe\">\n",
       "  <thead>\n",
       "    <tr style=\"text-align: right;\">\n",
       "      <th></th>\n",
       "      <th>척추전방위증</th>\n",
       "      <th>체중</th>\n",
       "      <th>신장</th>\n",
       "      <th>환자통증정도</th>\n",
       "      <th>스테로이드치료</th>\n",
       "      <th>수술기법</th>\n",
       "      <th>과거수술횟수</th>\n",
       "      <th>수술기법_IELD</th>\n",
       "      <th>수술기법_TELD</th>\n",
       "    </tr>\n",
       "  </thead>\n",
       "  <tbody>\n",
       "    <tr>\n",
       "      <th>0</th>\n",
       "      <td>0</td>\n",
       "      <td>60.3</td>\n",
       "      <td>163</td>\n",
       "      <td>10</td>\n",
       "      <td>1</td>\n",
       "      <td>TELD</td>\n",
       "      <td>0</td>\n",
       "      <td>0.0</td>\n",
       "      <td>1.0</td>\n",
       "    </tr>\n",
       "    <tr>\n",
       "      <th>1</th>\n",
       "      <td>0</td>\n",
       "      <td>71.7</td>\n",
       "      <td>171</td>\n",
       "      <td>10</td>\n",
       "      <td>1</td>\n",
       "      <td>TELD</td>\n",
       "      <td>0</td>\n",
       "      <td>0.0</td>\n",
       "      <td>1.0</td>\n",
       "    </tr>\n",
       "  </tbody>\n",
       "</table>\n",
       "</div>"
      ],
      "text/plain": [
       "   척추전방위증    체중   신장  환자통증정도  스테로이드치료  수술기법  과거수술횟수  수술기법_IELD  수술기법_TELD\n",
       "0       0  60.3  163      10        1  TELD       0        0.0        1.0\n",
       "1       0  71.7  171      10        1  TELD       0        0.0        1.0"
      ]
     },
<<<<<<< HEAD
     "execution_count": 38,
=======
     "execution_count": 47,
>>>>>>> 4c093df133dbfc613f9f40649a55cc9c0a17915f
     "metadata": {},
     "output_type": "execute_result"
    }
   ],
   "source": [
    "df_ROS_extract_encoded = pd.concat([df_ROS_extract_null.reset_index(drop=True)\n",
    "                                       , df_encoded_data.reset_index(drop=True)], axis=1)\n",
    "df_ROS_extract_encoded[:2]"
   ]
  },
  {
   "cell_type": "code",
<<<<<<< HEAD
   "execution_count": 39,
=======
   "execution_count": 48,
>>>>>>> 4c093df133dbfc613f9f40649a55cc9c0a17915f
   "id": "99b5d0ab-99ef-42d1-a214-8293966d31b2",
   "metadata": {
    "tags": []
   },
   "outputs": [
    {
     "data": {
      "text/plain": [
       "(RangeIndex(start=0, stop=1894, step=1), (1894, 2))"
      ]
     },
<<<<<<< HEAD
     "execution_count": 39,
=======
     "execution_count": 48,
>>>>>>> 4c093df133dbfc613f9f40649a55cc9c0a17915f
     "metadata": {},
     "output_type": "execute_result"
    }
   ],
   "source": [
    "df_encoded_data.index, df_encoded_data.shape"
   ]
  },
  {
   "cell_type": "code",
<<<<<<< HEAD
   "execution_count": 40,
=======
   "execution_count": 49,
>>>>>>> 4c093df133dbfc613f9f40649a55cc9c0a17915f
   "id": "c242dea6-7d77-47e4-8021-ea9d834e6ea3",
   "metadata": {
    "tags": []
   },
   "outputs": [
    {
     "data": {
      "text/plain": [
       "(RangeIndex(start=0, stop=1894, step=1), (1894, 7))"
      ]
     },
<<<<<<< HEAD
     "execution_count": 40,
=======
     "execution_count": 49,
>>>>>>> 4c093df133dbfc613f9f40649a55cc9c0a17915f
     "metadata": {},
     "output_type": "execute_result"
    }
   ],
   "source": [
    "df_ROS_extract_null.index, df_ROS_extract_null.shape"
   ]
  },
  {
   "cell_type": "code",
<<<<<<< HEAD
   "execution_count": 41,
=======
   "execution_count": 50,
>>>>>>> 4c093df133dbfc613f9f40649a55cc9c0a17915f
   "id": "4aebc5ef-767d-4222-9fad-73634f5159c7",
   "metadata": {
    "tags": []
   },
   "outputs": [
    {
     "data": {
      "text/plain": [
       "(1894, 9)"
      ]
     },
<<<<<<< HEAD
     "execution_count": 41,
=======
     "execution_count": 50,
>>>>>>> 4c093df133dbfc613f9f40649a55cc9c0a17915f
     "metadata": {},
     "output_type": "execute_result"
    }
   ],
   "source": [
    "df_ROS_extract_encoded.shape"
   ]
  },
  {
   "cell_type": "code",
<<<<<<< HEAD
   "execution_count": 42,
=======
   "execution_count": 51,
>>>>>>> 4c093df133dbfc613f9f40649a55cc9c0a17915f
   "id": "9c9c4de0-db38-4c1a-ad5b-33d0030a3aa1",
   "metadata": {
    "tags": []
   },
   "outputs": [
    {
     "data": {
      "text/plain": [
       "Index(['척추전방위증', '체중', '신장', '환자통증정도', '스테로이드치료', '수술기법', '과거수술횟수',\n",
       "       '수술기법_IELD', '수술기법_TELD'],\n",
       "      dtype='object')"
      ]
     },
<<<<<<< HEAD
     "execution_count": 42,
=======
     "execution_count": 51,
>>>>>>> 4c093df133dbfc613f9f40649a55cc9c0a17915f
     "metadata": {},
     "output_type": "execute_result"
    }
   ],
   "source": [
    "df_ROS_extract_encoded.columns"
   ]
  },
  {
   "cell_type": "code",
<<<<<<< HEAD
   "execution_count": 43,
=======
   "execution_count": 52,
>>>>>>> 4c093df133dbfc613f9f40649a55cc9c0a17915f
   "id": "5c3bfdeb-df07-4ca3-8337-67be25e84e79",
   "metadata": {
    "tags": []
   },
   "outputs": [],
   "source": [
    "target = df_ROS_extract_encoded[['척추전방위증']]"
   ]
  },
  {
   "cell_type": "code",
<<<<<<< HEAD
   "execution_count": 44,
=======
   "execution_count": 53,
>>>>>>> 4c093df133dbfc613f9f40649a55cc9c0a17915f
   "id": "b47340f0-0201-43f3-97b7-64f30e326913",
   "metadata": {
    "tags": []
   },
   "outputs": [],
   "source": [
    "features = df_ROS_extract_encoded.drop(columns=['척추전방위증','수술기법'])"
   ]
  },
  {
   "cell_type": "code",
<<<<<<< HEAD
   "execution_count": 45,
=======
   "execution_count": 54,
>>>>>>> 4c093df133dbfc613f9f40649a55cc9c0a17915f
   "id": "749cd2b6-eb34-475f-95c1-f1651e50edbe",
   "metadata": {
    "tags": []
   },
   "outputs": [
    {
     "data": {
      "text/plain": [
       "Index(['체중', '신장', '환자통증정도', '스테로이드치료', '과거수술횟수', '수술기법_IELD', '수술기법_TELD'], dtype='object')"
      ]
     },
<<<<<<< HEAD
     "execution_count": 45,
=======
     "execution_count": 54,
>>>>>>> 4c093df133dbfc613f9f40649a55cc9c0a17915f
     "metadata": {},
     "output_type": "execute_result"
    }
   ],
   "source": [
    "features.columns"
   ]
  },
  {
   "cell_type": "markdown",
   "id": "d97fc58c-a9f1-4379-8fcd-df97d5150be3",
   "metadata": {},
   "source": [
    "### MinMaxScaler"
   ]
  },
  {
   "cell_type": "code",
<<<<<<< HEAD
   "execution_count": 46,
=======
   "execution_count": 55,
>>>>>>> 4c093df133dbfc613f9f40649a55cc9c0a17915f
   "id": "5abb9f84-d7e8-4ba8-accb-f96fc72b3c96",
   "metadata": {
    "tags": []
   },
   "outputs": [],
   "source": [
    "from sklearn.preprocessing import MinMaxScaler"
   ]
  },
  {
   "cell_type": "code",
<<<<<<< HEAD
   "execution_count": 47,
=======
   "execution_count": 56,
>>>>>>> 4c093df133dbfc613f9f40649a55cc9c0a17915f
   "id": "4fc29cb6-e92b-4f2d-84c3-212526671dab",
   "metadata": {
    "tags": []
   },
   "outputs": [
    {
     "data": {
      "text/plain": [
       "(1894, 7)"
      ]
     },
<<<<<<< HEAD
     "execution_count": 47,
=======
     "execution_count": 56,
>>>>>>> 4c093df133dbfc613f9f40649a55cc9c0a17915f
     "metadata": {},
     "output_type": "execute_result"
    }
   ],
   "source": [
    "minMaxScaler = MinMaxScaler() # 인스턴스화\n",
    "features = minMaxScaler.fit_transform(features)\n",
    "features.shape"
   ]
  },
  {
   "cell_type": "markdown",
   "id": "636fb52d-be39-4da2-9500-644e8b7ba159",
   "metadata": {},
   "source": [
    "### 정형화 단계 (민정언니꺼 붙이기!!)"
   ]
  },
  {
   "cell_type": "code",
<<<<<<< HEAD
   "execution_count": 48,
=======
   "execution_count": 57,
>>>>>>> 4c093df133dbfc613f9f40649a55cc9c0a17915f
   "id": "9d8f2dbf-43f9-4c1c-a487-6c7eb57b5676",
   "metadata": {
    "tags": []
   },
   "outputs": [],
   "source": [
    "from sklearn.model_selection import train_test_split"
   ]
  },
  {
   "cell_type": "code",
<<<<<<< HEAD
   "execution_count": 49,
=======
   "execution_count": 58,
>>>>>>> 4c093df133dbfc613f9f40649a55cc9c0a17915f
   "id": "7c51ed3f-41c2-4039-a2c8-1de9c275457a",
   "metadata": {
    "tags": []
   },
   "outputs": [
    {
     "data": {
      "text/plain": [
       "((1420, 7), (1420, 1), (474, 7), (474, 1))"
      ]
     },
<<<<<<< HEAD
     "execution_count": 49,
=======
     "execution_count": 58,
>>>>>>> 4c093df133dbfc613f9f40649a55cc9c0a17915f
     "metadata": {},
     "output_type": "execute_result"
    }
   ],
   "source": [
    "features_train, features_test, target_train, target_test = train_test_split(features, target, random_state=111)\n",
    "features_train.shape, target_train.shape, features_test.shape, target_test.shape"
   ]
  },
  {
   "cell_type": "markdown",
   "id": "93703b16-4ba6-4aad-a18c-05f47f536cda",
   "metadata": {},
   "source": []
  }
 ],
 "metadata": {
  "kernelspec": {
   "display_name": "Python 3 (ipykernel)",
   "language": "python",
   "name": "python3"
  },
  "language_info": {
   "codemirror_mode": {
    "name": "ipython",
    "version": 3
   },
   "file_extension": ".py",
   "mimetype": "text/x-python",
   "name": "python",
   "nbconvert_exporter": "python",
   "pygments_lexer": "ipython3",
   "version": "3.11.3"
  }
 },
 "nbformat": 4,
 "nbformat_minor": 5
}
