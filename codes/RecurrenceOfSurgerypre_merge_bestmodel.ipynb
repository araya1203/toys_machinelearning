{
 "cells": [
  {
   "cell_type": "markdown",
   "id": "eeecfe0d-ead5-464b-9d19-41e56942f400",
   "metadata": {},
   "source": [
    "#### quest\n",
    " - 업무분장(전처리, 모델학습)\n",
    " - RecurrenceOfSurgery.csv 사용\n",
    " - 목표변수 범주형 : 척추전방위증 \n",
    " - 설명변수 최소 6개 : \n",
    "   - (연속형)\n",
    "     체중 \n",
    "     신장\n",
    "        \n",
    "   - (범주형)\n",
    "     환자통증정도,\n",
    "     스테로이드치료, \n",
    "     수술기법\n",
    "     과거수술횟수\n",
    "  \n",
    "- 서비스 대상과 목표 설명, 변수 선택 이유"
   ]
  },
  {
   "cell_type": "code",
   "execution_count": 1,
   "id": "f49e24eb-ff39-4926-b627-eabf1e785bda",
   "metadata": {
    "tags": []
   },
   "outputs": [],
   "source": [
    "import pandas as pd"
   ]
  },
  {
   "cell_type": "code",
   "execution_count": 2,
   "id": "88e437c0-87ab-4080-8757-53532bf140fc",
   "metadata": {
    "tags": []
   },
   "outputs": [
    {
     "name": "stdout",
     "output_type": "stream",
     "text": [
      "<class 'pandas.core.frame.DataFrame'>\n",
      "RangeIndex: 1894 entries, 0 to 1893\n",
      "Data columns (total 52 columns):\n",
      " #   Column                  Non-Null Count  Dtype  \n",
      "---  ------                  --------------  -----  \n",
      " 0   Unnamed: 0              1894 non-null   int64  \n",
      " 1   환자ID                    1894 non-null   object \n",
      " 2   Large Lymphocyte        1894 non-null   float64\n",
      " 3   Location of herniation  1894 non-null   int64  \n",
      " 4   ODI                     462 non-null    float64\n",
      " 5   가족력                     1843 non-null   float64\n",
      " 6   간질성폐질환                  1894 non-null   int64  \n",
      " 7   고혈압여부                   1894 non-null   int64  \n",
      " 8   과거수술횟수                  1894 non-null   int64  \n",
      " 9   당뇨여부                    1894 non-null   int64  \n",
      " 10  말초동맥질환여부                1894 non-null   int64  \n",
      " 11  빈혈여부                    1894 non-null   int64  \n",
      " 12  성별                      1894 non-null   int64  \n",
      " 13  스테로이드치료                 1894 non-null   int64  \n",
      " 14  신부전여부                   1894 non-null   int64  \n",
      " 15  신장                      1894 non-null   int64  \n",
      " 16  심혈관질환                   1894 non-null   int64  \n",
      " 17  암발병여부                   1894 non-null   int64  \n",
      " 18  연령                      1894 non-null   int64  \n",
      " 19  우울증여부                   1894 non-null   int64  \n",
      " 20  입원기간                    1894 non-null   int64  \n",
      " 21  입원일자                    1894 non-null   int64  \n",
      " 22  종양진행여부                  1894 non-null   int64  \n",
      " 23  직업                      1479 non-null   object \n",
      " 24  체중                      1894 non-null   float64\n",
      " 25  퇴원일자                    1894 non-null   int64  \n",
      " 26  헤모글로빈수치                 1893 non-null   float64\n",
      " 27  혈전합병증여부                 1894 non-null   int64  \n",
      " 28  환자통증정도                  1894 non-null   int64  \n",
      " 29  흡연여부                    1894 non-null   int64  \n",
      " 30  통증기간(월)                 1890 non-null   float64\n",
      " 31  수술기법                    1813 non-null   object \n",
      " 32  수술시간                    1840 non-null   float64\n",
      " 33  수술실패여부                  1894 non-null   int64  \n",
      " 34  수술일자                    1894 non-null   int64  \n",
      " 35  재발여부                    1894 non-null   int64  \n",
      " 36  혈액형                     1894 non-null   object \n",
      " 37  전방디스크높이(mm)             1894 non-null   float64\n",
      " 38  후방디스크높이(mm)             1894 non-null   float64\n",
      " 39  지방축적도                   1891 non-null   float64\n",
      " 40  Instability             1894 non-null   int64  \n",
      " 41  MF + ES                 1894 non-null   float64\n",
      " 42  Modic change            1894 non-null   int64  \n",
      " 43  PI                      1890 non-null   float64\n",
      " 44  PT                      1890 non-null   float64\n",
      " 45  Seg Angle(raw)          1893 non-null   float64\n",
      " 46  Vaccum disc             1894 non-null   int64  \n",
      " 47  골밀도                     998 non-null    float64\n",
      " 48  디스크단면적                  1893 non-null   float64\n",
      " 49  디스크위치                   1894 non-null   int64  \n",
      " 50  척추이동척도                  1894 non-null   object \n",
      " 51  척추전방위증                  1894 non-null   int64  \n",
      "dtypes: float64(16), int64(31), object(5)\n",
      "memory usage: 769.6+ KB\n"
     ]
    }
   ],
   "source": [
    "df_ROS = pd.read_csv('../datasets/RecurrenceOfSurgery.csv')\n",
    "df_ROS.info()"
   ]
  },
  {
   "cell_type": "code",
   "execution_count": 3,
   "id": "f7234f20-8b81-4159-9d2f-40b916132e5a",
   "metadata": {
    "tags": []
   },
   "outputs": [
    {
     "data": {
      "text/html": [
       "<div>\n",
       "<style scoped>\n",
       "    .dataframe tbody tr th:only-of-type {\n",
       "        vertical-align: middle;\n",
       "    }\n",
       "\n",
       "    .dataframe tbody tr th {\n",
       "        vertical-align: top;\n",
       "    }\n",
       "\n",
       "    .dataframe thead th {\n",
       "        text-align: right;\n",
       "    }\n",
       "</style>\n",
       "<table border=\"1\" class=\"dataframe\">\n",
       "  <thead>\n",
       "    <tr style=\"text-align: right;\">\n",
       "      <th></th>\n",
       "      <th>Unnamed: 0</th>\n",
       "      <th>환자ID</th>\n",
       "      <th>Large Lymphocyte</th>\n",
       "      <th>Location of herniation</th>\n",
       "      <th>ODI</th>\n",
       "      <th>가족력</th>\n",
       "      <th>간질성폐질환</th>\n",
       "      <th>고혈압여부</th>\n",
       "      <th>과거수술횟수</th>\n",
       "      <th>당뇨여부</th>\n",
       "      <th>...</th>\n",
       "      <th>Modic change</th>\n",
       "      <th>PI</th>\n",
       "      <th>PT</th>\n",
       "      <th>Seg Angle(raw)</th>\n",
       "      <th>Vaccum disc</th>\n",
       "      <th>골밀도</th>\n",
       "      <th>디스크단면적</th>\n",
       "      <th>디스크위치</th>\n",
       "      <th>척추이동척도</th>\n",
       "      <th>척추전방위증</th>\n",
       "    </tr>\n",
       "  </thead>\n",
       "  <tbody>\n",
       "    <tr>\n",
       "      <th>0</th>\n",
       "      <td>0</td>\n",
       "      <td>1PT</td>\n",
       "      <td>22.8</td>\n",
       "      <td>3</td>\n",
       "      <td>51.0</td>\n",
       "      <td>0.0</td>\n",
       "      <td>0</td>\n",
       "      <td>0</td>\n",
       "      <td>0</td>\n",
       "      <td>0</td>\n",
       "      <td>...</td>\n",
       "      <td>3</td>\n",
       "      <td>51.6</td>\n",
       "      <td>36.6</td>\n",
       "      <td>14.4</td>\n",
       "      <td>0</td>\n",
       "      <td>-1.01</td>\n",
       "      <td>2048.5</td>\n",
       "      <td>4</td>\n",
       "      <td>Down</td>\n",
       "      <td>0</td>\n",
       "    </tr>\n",
       "    <tr>\n",
       "      <th>1</th>\n",
       "      <td>1</td>\n",
       "      <td>2PT</td>\n",
       "      <td>44.9</td>\n",
       "      <td>4</td>\n",
       "      <td>26.0</td>\n",
       "      <td>0.0</td>\n",
       "      <td>0</td>\n",
       "      <td>0</td>\n",
       "      <td>0</td>\n",
       "      <td>0</td>\n",
       "      <td>...</td>\n",
       "      <td>0</td>\n",
       "      <td>40.8</td>\n",
       "      <td>7.2</td>\n",
       "      <td>17.8</td>\n",
       "      <td>0</td>\n",
       "      <td>-1.14</td>\n",
       "      <td>1753.1</td>\n",
       "      <td>4</td>\n",
       "      <td>Up</td>\n",
       "      <td>0</td>\n",
       "    </tr>\n",
       "  </tbody>\n",
       "</table>\n",
       "<p>2 rows × 52 columns</p>\n",
       "</div>"
      ],
      "text/plain": [
       "   Unnamed: 0 환자ID  Large Lymphocyte  Location of herniation   ODI  가족력  \\\n",
       "0           0  1PT              22.8                       3  51.0  0.0   \n",
       "1           1  2PT              44.9                       4  26.0  0.0   \n",
       "\n",
       "   간질성폐질환  고혈압여부  과거수술횟수  당뇨여부  ...  Modic change    PI    PT  Seg Angle(raw)  \\\n",
       "0       0      0       0     0  ...             3  51.6  36.6            14.4   \n",
       "1       0      0       0     0  ...             0  40.8   7.2            17.8   \n",
       "\n",
       "   Vaccum disc   골밀도  디스크단면적  디스크위치  척추이동척도  척추전방위증  \n",
       "0            0 -1.01  2048.5      4    Down       0  \n",
       "1            0 -1.14  1753.1      4      Up       0  \n",
       "\n",
       "[2 rows x 52 columns]"
      ]
     },
     "execution_count": 3,
     "metadata": {},
     "output_type": "execute_result"
    }
   ],
   "source": [
    "df_ROS[:2]"
   ]
  },
  {
   "cell_type": "code",
   "execution_count": 4,
   "id": "73a56c3b-3e37-40df-8b56-a87cb99cbac8",
   "metadata": {
    "tags": []
   },
   "outputs": [
    {
     "data": {
      "text/plain": [
       "Index(['Unnamed: 0', '환자ID', 'Large Lymphocyte', 'Location of herniation',\n",
       "       'ODI', '가족력', '간질성폐질환', '고혈압여부', '과거수술횟수', '당뇨여부', '말초동맥질환여부', '빈혈여부',\n",
       "       '성별', '스테로이드치료', '신부전여부', '신장', '심혈관질환', '암발병여부', '연령', '우울증여부', '입원기간',\n",
       "       '입원일자', '종양진행여부', '직업', '체중', '퇴원일자', '헤모글로빈수치', '혈전합병증여부', '환자통증정도',\n",
       "       '흡연여부', '통증기간(월)', '수술기법', '수술시간', '수술실패여부', '수술일자', '재발여부', '혈액형',\n",
       "       '전방디스크높이(mm)', '후방디스크높이(mm)', '지방축적도', 'Instability', 'MF + ES',\n",
       "       'Modic change', 'PI', 'PT', 'Seg Angle(raw)', 'Vaccum disc', '골밀도',\n",
       "       '디스크단면적', '디스크위치', '척추이동척도', '척추전방위증'],\n",
       "      dtype='object')"
      ]
     },
     "execution_count": 4,
     "metadata": {},
     "output_type": "execute_result"
    }
   ],
   "source": [
    "df_ROS.columns"
   ]
  },
  {
   "cell_type": "code",
   "execution_count": 5,
   "id": "7ab7741b-e384-4d1f-8aef-e8ea5948be21",
   "metadata": {
    "tags": []
   },
   "outputs": [
    {
     "data": {
      "text/plain": [
       "척추전방위증      0\n",
       "체중          0\n",
       "신장          0\n",
       "환자통증정도      0\n",
       "스테로이드치료     0\n",
       "수술기법       81\n",
       "과거수술횟수      0\n",
       "dtype: int64"
      ]
     },
     "execution_count": 5,
     "metadata": {},
     "output_type": "execute_result"
    }
   ],
   "source": [
    "df_ROS_extract_null = df_ROS[['척추전방위증', '체중', '신장', '환자통증정도', '스테로이드치료', '수술기법', '과거수술횟수']]\n",
    "df_ROS_extract_null.isnull().sum() # 결측치 확인 "
   ]
  },
  {
   "cell_type": "code",
   "execution_count": 6,
   "id": "2d46cd19-edcd-4082-ad57-341f868f2be8",
   "metadata": {
    "tags": []
   },
   "outputs": [
    {
     "data": {
      "text/html": [
       "<div>\n",
       "<style scoped>\n",
       "    .dataframe tbody tr th:only-of-type {\n",
       "        vertical-align: middle;\n",
       "    }\n",
       "\n",
       "    .dataframe tbody tr th {\n",
       "        vertical-align: top;\n",
       "    }\n",
       "\n",
       "    .dataframe thead th {\n",
       "        text-align: right;\n",
       "    }\n",
       "</style>\n",
       "<table border=\"1\" class=\"dataframe\">\n",
       "  <thead>\n",
       "    <tr style=\"text-align: right;\">\n",
       "      <th></th>\n",
       "      <th>척추전방위증</th>\n",
       "      <th>체중</th>\n",
       "      <th>신장</th>\n",
       "      <th>환자통증정도</th>\n",
       "      <th>스테로이드치료</th>\n",
       "      <th>수술기법</th>\n",
       "      <th>과거수술횟수</th>\n",
       "    </tr>\n",
       "  </thead>\n",
       "  <tbody>\n",
       "    <tr>\n",
       "      <th>0</th>\n",
       "      <td>0</td>\n",
       "      <td>60.3</td>\n",
       "      <td>163</td>\n",
       "      <td>10</td>\n",
       "      <td>1</td>\n",
       "      <td>TELD</td>\n",
       "      <td>0</td>\n",
       "    </tr>\n",
       "    <tr>\n",
       "      <th>1</th>\n",
       "      <td>0</td>\n",
       "      <td>71.7</td>\n",
       "      <td>171</td>\n",
       "      <td>10</td>\n",
       "      <td>1</td>\n",
       "      <td>TELD</td>\n",
       "      <td>0</td>\n",
       "    </tr>\n",
       "  </tbody>\n",
       "</table>\n",
       "</div>"
      ],
      "text/plain": [
       "   척추전방위증    체중   신장  환자통증정도  스테로이드치료  수술기법  과거수술횟수\n",
       "0       0  60.3  163      10        1  TELD       0\n",
       "1       0  71.7  171      10        1  TELD       0"
      ]
     },
     "execution_count": 6,
     "metadata": {},
     "output_type": "execute_result"
    }
   ],
   "source": [
    "df_ROS_extract_null[:2]"
   ]
  },
  {
   "cell_type": "code",
   "execution_count": 7,
   "id": "c0df451d-47ea-4d10-908b-ffc080ccd6f9",
   "metadata": {
    "tags": []
   },
   "outputs": [
    {
     "data": {
      "text/plain": [
       "0    1833\n",
       "1      61\n",
       "Name: 척추전방위증, dtype: int64"
      ]
     },
     "execution_count": 7,
     "metadata": {},
     "output_type": "execute_result"
    }
   ],
   "source": [
    "df_ROS_extract_null['척추전방위증'].value_counts()"
   ]
  },
  {
   "cell_type": "code",
   "execution_count": 8,
   "id": "9f999d2a-f073-4ab5-95fc-91e9329bb03d",
   "metadata": {
    "tags": []
   },
   "outputs": [
    {
     "data": {
      "text/plain": [
       "70.0    67\n",
       "65.0    66\n",
       "60.0    63\n",
       "74.0    44\n",
       "72.0    43\n",
       "        ..\n",
       "80.8     1\n",
       "72.5     1\n",
       "65.8     1\n",
       "75.4     1\n",
       "47.5     1\n",
       "Name: 체중, Length: 288, dtype: int64"
      ]
     },
     "execution_count": 8,
     "metadata": {},
     "output_type": "execute_result"
    }
   ],
   "source": [
    "df_ROS_extract_null['체중'].value_counts()"
   ]
  },
  {
   "cell_type": "code",
   "execution_count": 9,
   "id": "76408a99-4ca6-4211-ad2d-a2fc4a96c1fc",
   "metadata": {
    "tags": []
   },
   "outputs": [
    {
     "data": {
      "text/plain": [
       "170    112\n",
       "173     84\n",
       "175     82\n",
       "160     77\n",
       "174     76\n",
       "171     72\n",
       "168     72\n",
       "167     71\n",
       "172     71\n",
       "158     67\n",
       "176     62\n",
       "164     62\n",
       "161     58\n",
       "157     56\n",
       "180     56\n",
       "165     55\n",
       "177     53\n",
       "179     52\n",
       "162     50\n",
       "178     50\n",
       "166     49\n",
       "169     49\n",
       "163     47\n",
       "154     47\n",
       "159     39\n",
       "181     37\n",
       "153     37\n",
       "183     32\n",
       "155     30\n",
       "156     29\n",
       "182     25\n",
       "152     19\n",
       "185     16\n",
       "151     15\n",
       "184     13\n",
       "150     12\n",
       "149     11\n",
       "187      9\n",
       "186      9\n",
       "148      6\n",
       "188      4\n",
       "144      4\n",
       "145      3\n",
       "140      2\n",
       "143      2\n",
       "147      2\n",
       "189      2\n",
       "146      2\n",
       "142      1\n",
       "190      1\n",
       "191      1\n",
       "204      1\n",
       "Name: 신장, dtype: int64"
      ]
     },
     "execution_count": 9,
     "metadata": {},
     "output_type": "execute_result"
    }
   ],
   "source": [
    "df_ROS_extract_null['신장'].value_counts()"
   ]
  },
  {
   "cell_type": "code",
   "execution_count": 10,
   "id": "0e3cd90e-5263-4186-a87f-ed78e69a3ee1",
   "metadata": {
    "tags": []
   },
   "outputs": [
    {
     "data": {
      "text/plain": [
       "7     885\n",
       "8     410\n",
       "9     172\n",
       "2     130\n",
       "10    107\n",
       "1      52\n",
       "5      46\n",
       "3      44\n",
       "6      40\n",
       "4       8\n",
       "Name: 환자통증정도, dtype: int64"
      ]
     },
     "execution_count": 10,
     "metadata": {},
     "output_type": "execute_result"
    }
   ],
   "source": [
    "df_ROS_extract_null['환자통증정도'].value_counts()"
   ]
  },
  {
   "cell_type": "code",
   "execution_count": 11,
   "id": "ff800dab-6dcf-48c1-a5da-b15d5f200413",
   "metadata": {
    "tags": []
   },
   "outputs": [
    {
     "data": {
      "text/plain": [
       "1    1134\n",
       "0     760\n",
       "Name: 스테로이드치료, dtype: int64"
      ]
     },
     "execution_count": 11,
     "metadata": {},
     "output_type": "execute_result"
    }
   ],
   "source": [
    "df_ROS_extract_null['스테로이드치료'].value_counts()"
   ]
  },
  {
   "cell_type": "code",
   "execution_count": 12,
   "id": "94bd192b-bcd5-4939-890f-d6d157fc5a68",
   "metadata": {
    "tags": []
   },
   "outputs": [
    {
     "data": {
      "text/plain": [
       "TELD    1673\n",
       "IELD     140\n",
       "Name: 수술기법, dtype: int64"
      ]
     },
     "execution_count": 12,
     "metadata": {},
     "output_type": "execute_result"
    }
   ],
   "source": [
    "df_ROS_extract_null['수술기법'].value_counts()"
   ]
  },
  {
   "cell_type": "code",
   "execution_count": 13,
   "id": "55427641-afb1-4f91-8484-789c860f640e",
   "metadata": {
    "tags": []
   },
   "outputs": [
    {
     "data": {
      "text/plain": [
       "0    1499\n",
       "1     225\n",
       "2     162\n",
       "3       8\n",
       "Name: 과거수술횟수, dtype: int64"
      ]
     },
     "execution_count": 13,
     "metadata": {},
     "output_type": "execute_result"
    }
   ],
   "source": [
    "df_ROS_extract_null['과거수술횟수'].value_counts()"
   ]
  },
  {
   "cell_type": "markdown",
   "id": "ecfa831d-cae2-44a9-952c-fd3316121445",
   "metadata": {},
   "source": [
    "### 결측치 예측 훈련 모델 생성['수술기법']"
   ]
  },
  {
   "cell_type": "code",
   "execution_count": 14,
   "id": "a61ccf47-fb91-4a1b-b86e-3ed1b888fbf6",
   "metadata": {
    "tags": []
   },
   "outputs": [],
   "source": [
    "from sklearn.linear_model import LogisticRegression"
   ]
  },
  {
   "cell_type": "code",
   "execution_count": 15,
   "id": "5806bf3c-7007-4a4c-857e-7e770388ff26",
   "metadata": {
    "tags": []
   },
   "outputs": [
    {
     "data": {
      "text/plain": [
       "0       TELD\n",
       "1       TELD\n",
       "2       TELD\n",
       "3       TELD\n",
       "4       TELD\n",
       "        ... \n",
       "1889     NaN\n",
       "1890     NaN\n",
       "1891    IELD\n",
       "1892     NaN\n",
       "1893     NaN\n",
       "Name: 수술기법, Length: 1894, dtype: object"
      ]
     },
     "execution_count": 15,
     "metadata": {},
     "output_type": "execute_result"
    }
   ],
   "source": [
    "# 원본 데이터프레임에서 '수술기법' 열을 추출\n",
    "df_ROS_extract_null['수술기법']"
   ]
  },
  {
   "cell_type": "code",
   "execution_count": 16,
   "id": "f4c964b6-094c-49fe-a963-8659e678f648",
   "metadata": {
    "tags": []
   },
   "outputs": [],
   "source": [
    "# 결측치를 예측하는 함수\n",
    "def predict_surgery_method(row):\n",
    "    if pd.isnull(row['수술기법']):\n",
    "        # 결측치를 예측하기 위해 사용할 특성 선택 (이 예제에서는 다른 열을 모두 사용)\n",
    "        features = df_ROS_extract_null.columns.tolist()\n",
    "        features.remove('수술기법')  # 예측에 사용할 특성에서 '수술기법' 열 제외\n",
    "        X = df_ROS_extract_null.loc[row.name, features].values.reshape(1, -1)\n",
    "        \n",
    "        # 학습 데이터에서 수술기법이 결측치인 행 제외\n",
    "        df_train = df_ROS_extract_null.dropna(subset=['수술기법'])\n",
    "        \n",
    "        # 훈련용 데이터셋과 타겟 생성\n",
    "        features_train = df_train[features].values\n",
    "        target_train = df_train['수술기법'].values\n",
    "        \n",
    "        # 로지스틱 회귀 모델 훈련 (결측치 예측, 수술기법의 결측치를 대체하기 위한 용도)\n",
    "        missing_value_imputation_model = LogisticRegression()\n",
    "        missing_value_imputation_model.fit(features_train, target_train)\n",
    "        \n",
    "        # 결측치 대체를 위한 예측\n",
    "        predicted_nan = missing_value_imputation_model.predict(X)\n",
    "        \n",
    "        # 예측 결과를 반환\n",
    "        return predicted_nan[0]\n",
    "    else:\n",
    "        return row['수술기법']"
   ]
  },
  {
   "cell_type": "code",
   "execution_count": 17,
   "id": "5d416b1c-60b6-4461-bbce-b37b60144e05",
   "metadata": {
    "tags": []
   },
   "outputs": [
    {
     "name": "stderr",
     "output_type": "stream",
     "text": [
      "C:\\Users\\04-02\\AppData\\Local\\Temp\\ipykernel_5720\\2606330604.py:2: SettingWithCopyWarning: \n",
      "A value is trying to be set on a copy of a slice from a DataFrame.\n",
      "Try using .loc[row_indexer,col_indexer] = value instead\n",
      "\n",
      "See the caveats in the documentation: https://pandas.pydata.org/pandas-docs/stable/user_guide/indexing.html#returning-a-view-versus-a-copy\n",
      "  df_ROS_extract_null.loc[:, '수술기법'] = df_ROS_extract_null.apply(lambda row: predict_surgery_method(row), axis=1)\n"
     ]
    }
   ],
   "source": [
    " # apply를 사용하여 함수 적용하여 결측치 처리\n",
    "df_ROS_extract_null.loc[:, '수술기법'] = df_ROS_extract_null.apply(lambda row: predict_surgery_method(row), axis=1)"
   ]
  },
  {
   "cell_type": "code",
   "execution_count": 18,
   "id": "1682ee08-ad8a-4cb5-a540-5a584b2ec5f7",
   "metadata": {
    "tags": []
   },
   "outputs": [
    {
     "data": {
      "text/plain": [
       "척추전방위증     0\n",
       "체중         0\n",
       "신장         0\n",
       "환자통증정도     0\n",
       "스테로이드치료    0\n",
       "수술기법       0\n",
       "과거수술횟수     0\n",
       "dtype: int64"
      ]
     },
     "execution_count": 18,
     "metadata": {},
     "output_type": "execute_result"
    }
   ],
   "source": [
    "df_ROS_extract_null.isnull().sum() "
   ]
  },
  {
   "cell_type": "code",
   "execution_count": 19,
   "id": "c5d5129b-5451-4ccd-867a-4796b9c6c3df",
   "metadata": {
    "tags": []
   },
   "outputs": [
    {
     "data": {
      "text/plain": [
       "TELD    1754\n",
       "IELD     140\n",
       "Name: 수술기법, dtype: int64"
      ]
     },
     "execution_count": 19,
     "metadata": {},
     "output_type": "execute_result"
    }
   ],
   "source": [
    "df_ROS_extract_null['수술기법'].value_counts()"
   ]
  },
  {
   "cell_type": "code",
   "execution_count": 20,
   "id": "2e1d05fa-dfd1-4786-8bcc-e40086044040",
   "metadata": {
    "tags": []
   },
   "outputs": [
    {
     "data": {
      "text/html": [
       "<div>\n",
       "<style scoped>\n",
       "    .dataframe tbody tr th:only-of-type {\n",
       "        vertical-align: middle;\n",
       "    }\n",
       "\n",
       "    .dataframe tbody tr th {\n",
       "        vertical-align: top;\n",
       "    }\n",
       "\n",
       "    .dataframe thead th {\n",
       "        text-align: right;\n",
       "    }\n",
       "</style>\n",
       "<table border=\"1\" class=\"dataframe\">\n",
       "  <thead>\n",
       "    <tr style=\"text-align: right;\">\n",
       "      <th></th>\n",
       "      <th>척추전방위증</th>\n",
       "      <th>체중</th>\n",
       "      <th>신장</th>\n",
       "      <th>환자통증정도</th>\n",
       "      <th>스테로이드치료</th>\n",
       "      <th>수술기법</th>\n",
       "      <th>과거수술횟수</th>\n",
       "    </tr>\n",
       "  </thead>\n",
       "  <tbody>\n",
       "    <tr>\n",
       "      <th>0</th>\n",
       "      <td>0</td>\n",
       "      <td>60.3</td>\n",
       "      <td>163</td>\n",
       "      <td>10</td>\n",
       "      <td>1</td>\n",
       "      <td>TELD</td>\n",
       "      <td>0</td>\n",
       "    </tr>\n",
       "    <tr>\n",
       "      <th>1</th>\n",
       "      <td>0</td>\n",
       "      <td>71.7</td>\n",
       "      <td>171</td>\n",
       "      <td>10</td>\n",
       "      <td>1</td>\n",
       "      <td>TELD</td>\n",
       "      <td>0</td>\n",
       "    </tr>\n",
       "  </tbody>\n",
       "</table>\n",
       "</div>"
      ],
      "text/plain": [
       "   척추전방위증    체중   신장  환자통증정도  스테로이드치료  수술기법  과거수술횟수\n",
       "0       0  60.3  163      10        1  TELD       0\n",
       "1       0  71.7  171      10        1  TELD       0"
      ]
     },
     "execution_count": 20,
     "metadata": {},
     "output_type": "execute_result"
    }
   ],
   "source": [
    "df_ROS_extract_null[:2]"
   ]
  },
  {
   "cell_type": "code",
   "execution_count": 21,
   "id": "5b2cdeec-2fd2-4a46-b29d-ff086fffa7e6",
   "metadata": {
    "tags": []
   },
   "outputs": [],
   "source": [
    "from sklearn.model_selection import train_test_split\n",
    "from sklearn.metrics import accuracy_score\n",
    "from sklearn.metrics import f1_score\n",
    "from imblearn.under_sampling import TomekLinks "
   ]
  },
  {
   "cell_type": "code",
   "execution_count": 22,
   "id": "04f58ccb-e67a-4f6a-a321-dcce4340ef2a",
   "metadata": {
    "tags": []
   },
   "outputs": [],
   "source": [
    "# 수술기법이 결측치인 행 추출\n",
    "nan_rows = df_ROS_extract_null[pd.isnull(df_ROS_extract_null['수술기법'])]"
   ]
  },
  {
   "cell_type": "code",
   "execution_count": 23,
   "id": "73426430-08f7-4f66-9e1a-2fe3e4e9c014",
   "metadata": {},
   "outputs": [],
   "source": [
    "# 결측치가 아닌 행 추출\n",
    "not_nan_rows = df_ROS_extract_null.dropna(subset=['수술기법'])"
   ]
  },
  {
   "cell_type": "code",
   "execution_count": 24,
   "id": "cac939a2-00d2-4b43-bf6c-b40f7857a71c",
   "metadata": {},
   "outputs": [],
   "source": [
    "# Features와 Target 설정\n",
    "features = not_nan_rows.drop(columns=['수술기법'])\n",
    "target = not_nan_rows['수술기법']"
   ]
  },
  {
   "cell_type": "code",
   "execution_count": 25,
   "id": "457b3d2c-264c-4d2d-83b4-b44a87ed3af2",
   "metadata": {},
   "outputs": [],
   "source": [
    "# Tomek's Link 언더샘플링을 적용\n",
    "tl = TomekLinks(sampling_strategy='majority')\n",
    "features_resampled, target_resampled = tl.fit_resample(features, target)"
   ]
  },
  {
   "cell_type": "code",
   "execution_count": 26,
   "id": "22436043-95d3-49ac-89c4-aa7cd1723d0b",
   "metadata": {},
   "outputs": [],
   "source": [
    "# 데이터 분할 (70% 학습, 30% 테스트)\n",
    "features_train, features_test, target_train, target_test = train_test_split(features_resampled, target_resampled, test_size=0.3, random_state=42)"
   ]
  },
  {
   "cell_type": "code",
   "execution_count": 27,
   "id": "7321be1f-991e-4c9e-aec6-0005a6568e48",
   "metadata": {},
   "outputs": [
    {
     "name": "stderr",
     "output_type": "stream",
     "text": [
      "C:\\Users\\04-02\\anaconda3\\Lib\\site-packages\\sklearn\\linear_model\\_logistic.py:458: ConvergenceWarning: lbfgs failed to converge (status=1):\n",
      "STOP: TOTAL NO. of ITERATIONS REACHED LIMIT.\n",
      "\n",
      "Increase the number of iterations (max_iter) or scale the data as shown in:\n",
      "    https://scikit-learn.org/stable/modules/preprocessing.html\n",
      "Please also refer to the documentation for alternative solver options:\n",
      "    https://scikit-learn.org/stable/modules/linear_model.html#logistic-regression\n",
      "  n_iter_i = _check_optimize_result(\n"
     ]
    },
    {
     "data": {
      "text/html": [
       "<style>#sk-container-id-1 {color: black;background-color: white;}#sk-container-id-1 pre{padding: 0;}#sk-container-id-1 div.sk-toggleable {background-color: white;}#sk-container-id-1 label.sk-toggleable__label {cursor: pointer;display: block;width: 100%;margin-bottom: 0;padding: 0.3em;box-sizing: border-box;text-align: center;}#sk-container-id-1 label.sk-toggleable__label-arrow:before {content: \"▸\";float: left;margin-right: 0.25em;color: #696969;}#sk-container-id-1 label.sk-toggleable__label-arrow:hover:before {color: black;}#sk-container-id-1 div.sk-estimator:hover label.sk-toggleable__label-arrow:before {color: black;}#sk-container-id-1 div.sk-toggleable__content {max-height: 0;max-width: 0;overflow: hidden;text-align: left;background-color: #f0f8ff;}#sk-container-id-1 div.sk-toggleable__content pre {margin: 0.2em;color: black;border-radius: 0.25em;background-color: #f0f8ff;}#sk-container-id-1 input.sk-toggleable__control:checked~div.sk-toggleable__content {max-height: 200px;max-width: 100%;overflow: auto;}#sk-container-id-1 input.sk-toggleable__control:checked~label.sk-toggleable__label-arrow:before {content: \"▾\";}#sk-container-id-1 div.sk-estimator input.sk-toggleable__control:checked~label.sk-toggleable__label {background-color: #d4ebff;}#sk-container-id-1 div.sk-label input.sk-toggleable__control:checked~label.sk-toggleable__label {background-color: #d4ebff;}#sk-container-id-1 input.sk-hidden--visually {border: 0;clip: rect(1px 1px 1px 1px);clip: rect(1px, 1px, 1px, 1px);height: 1px;margin: -1px;overflow: hidden;padding: 0;position: absolute;width: 1px;}#sk-container-id-1 div.sk-estimator {font-family: monospace;background-color: #f0f8ff;border: 1px dotted black;border-radius: 0.25em;box-sizing: border-box;margin-bottom: 0.5em;}#sk-container-id-1 div.sk-estimator:hover {background-color: #d4ebff;}#sk-container-id-1 div.sk-parallel-item::after {content: \"\";width: 100%;border-bottom: 1px solid gray;flex-grow: 1;}#sk-container-id-1 div.sk-label:hover label.sk-toggleable__label {background-color: #d4ebff;}#sk-container-id-1 div.sk-serial::before {content: \"\";position: absolute;border-left: 1px solid gray;box-sizing: border-box;top: 0;bottom: 0;left: 50%;z-index: 0;}#sk-container-id-1 div.sk-serial {display: flex;flex-direction: column;align-items: center;background-color: white;padding-right: 0.2em;padding-left: 0.2em;position: relative;}#sk-container-id-1 div.sk-item {position: relative;z-index: 1;}#sk-container-id-1 div.sk-parallel {display: flex;align-items: stretch;justify-content: center;background-color: white;position: relative;}#sk-container-id-1 div.sk-item::before, #sk-container-id-1 div.sk-parallel-item::before {content: \"\";position: absolute;border-left: 1px solid gray;box-sizing: border-box;top: 0;bottom: 0;left: 50%;z-index: -1;}#sk-container-id-1 div.sk-parallel-item {display: flex;flex-direction: column;z-index: 1;position: relative;background-color: white;}#sk-container-id-1 div.sk-parallel-item:first-child::after {align-self: flex-end;width: 50%;}#sk-container-id-1 div.sk-parallel-item:last-child::after {align-self: flex-start;width: 50%;}#sk-container-id-1 div.sk-parallel-item:only-child::after {width: 0;}#sk-container-id-1 div.sk-dashed-wrapped {border: 1px dashed gray;margin: 0 0.4em 0.5em 0.4em;box-sizing: border-box;padding-bottom: 0.4em;background-color: white;}#sk-container-id-1 div.sk-label label {font-family: monospace;font-weight: bold;display: inline-block;line-height: 1.2em;}#sk-container-id-1 div.sk-label-container {text-align: center;}#sk-container-id-1 div.sk-container {/* jupyter's `normalize.less` sets `[hidden] { display: none; }` but bootstrap.min.css set `[hidden] { display: none !important; }` so we also need the `!important` here to be able to override the default hidden behavior on the sphinx rendered scikit-learn.org. See: https://github.com/scikit-learn/scikit-learn/issues/21755 */display: inline-block !important;position: relative;}#sk-container-id-1 div.sk-text-repr-fallback {display: none;}</style><div id=\"sk-container-id-1\" class=\"sk-top-container\"><div class=\"sk-text-repr-fallback\"><pre>LogisticRegression()</pre><b>In a Jupyter environment, please rerun this cell to show the HTML representation or trust the notebook. <br />On GitHub, the HTML representation is unable to render, please try loading this page with nbviewer.org.</b></div><div class=\"sk-container\" hidden><div class=\"sk-item\"><div class=\"sk-estimator sk-toggleable\"><input class=\"sk-toggleable__control sk-hidden--visually\" id=\"sk-estimator-id-1\" type=\"checkbox\" checked><label for=\"sk-estimator-id-1\" class=\"sk-toggleable__label sk-toggleable__label-arrow\">LogisticRegression</label><div class=\"sk-toggleable__content\"><pre>LogisticRegression()</pre></div></div></div></div></div>"
      ],
      "text/plain": [
       "LogisticRegression()"
      ]
     },
     "execution_count": 27,
     "metadata": {},
     "output_type": "execute_result"
    }
   ],
   "source": [
    "# 로지스틱 회귀 모델 생성 및 학습 (모델 평가, 결측치 예측 모델 평가를 위해 사용)\n",
    "Evaluation_model = LogisticRegression()\n",
    "Evaluation_model.fit(features_train, target_train)"
   ]
  },
  {
   "cell_type": "code",
   "execution_count": 28,
   "id": "b03dcce4-f3da-4515-b77c-f6a66e41ff5d",
   "metadata": {},
   "outputs": [],
   "source": [
    "# 모델을 사용하여 결측치 예측\n",
    "predicted_nan_values = nan_rows.apply(predict_surgery_method, axis=1)"
   ]
  },
  {
   "cell_type": "code",
   "execution_count": 29,
   "id": "b38c4d2f-3d40-46a4-b4f7-87c8fe4478bc",
   "metadata": {},
   "outputs": [],
   "source": [
    "# 결측치 예측 결과를 원본 데이터프레임에 할당\n",
    "df_ROS_extract_null.loc[nan_rows.index, '수술기법'] = predicted_nan_values"
   ]
  },
  {
   "cell_type": "code",
   "execution_count": 30,
   "id": "3bcdeaf0-e4b5-4cb2-a276-aa070b211c88",
   "metadata": {},
   "outputs": [
    {
     "name": "stdout",
     "output_type": "stream",
     "text": [
      "결측치 예측 모델 정확도: 0.9201451905626135\n"
     ]
    }
   ],
   "source": [
    "# 결측치 예측 모델 평가 accuracy \n",
    "target_pred = Evaluation_model.predict(features_test)\n",
    "accuracy = accuracy_score(target_test, target_pred)\n",
    "print(\"결측치 예측 모델 정확도:\", accuracy )"
   ]
  },
  {
   "cell_type": "code",
   "execution_count": 31,
   "id": "8c949f15-5ac5-4899-aae8-bda559680b6d",
   "metadata": {
    "tags": []
   },
   "outputs": [
    {
     "name": "stdout",
     "output_type": "stream",
     "text": [
      "결측치 예측 모델 F1 점수: 0.4792060491493384\n"
     ]
    }
   ],
   "source": [
    "# 결측치 예측 모델 평가 - F1 점수 계산\n",
    "target_pred = Evaluation_model.predict(features_test)\n",
    "f1 = f1_score(target_test, target_pred, average='macro')\n",
    "print(\"결측치 예측 모델 F1 점수:\", f1)"
   ]
  },
  {
   "cell_type": "code",
   "execution_count": 32,
   "id": "551ca87d-6326-44b4-bc1c-e158d19a0721",
   "metadata": {},
   "outputs": [
    {
     "name": "stdout",
     "output_type": "stream",
     "text": [
      "결측치 예측 모델 F1 점수: 0.8818782828265501\n"
     ]
    }
   ],
   "source": [
    "# 결측치 예측 모델 평가 - F1 점수 계산\n",
    "target_pred = Evaluation_model.predict(features_test)\n",
    "f1 = f1_score(target_test, target_pred, average='weighted')\n",
    "print(\"결측치 예측 모델 F1 점수:\", f1)"
   ]
  },
  {
   "cell_type": "code",
   "execution_count": 33,
   "id": "b1f0c44d-ad77-41dc-b689-5369db05d518",
   "metadata": {},
   "outputs": [],
   "source": [
    "### 신장, 체중 이상치 제거\n",
    "import matplotlib.pyplot as plt\n",
    "import matplotlib.font_manager as fm"
   ]
  },
  {
   "cell_type": "code",
   "execution_count": 34,
   "id": "c945503f-7fbc-4d77-a621-a0926576dfc0",
   "metadata": {},
   "outputs": [],
   "source": [
    "# 한글 폰트를 지정\n",
    "font_path = \"C:/Windows/Fonts/malgun.ttf\" \n",
    "font_prop = fm.FontProperties(fname=font_path, size=14)"
   ]
  },
  {
   "cell_type": "code",
   "execution_count": 35,
   "id": "ad2de602-6646-4822-a984-b142ca5d96eb",
   "metadata": {},
   "outputs": [],
   "source": [
    "# 그래프에서 한글을 사용할 때 폰트 설정\n",
    "plt.rcParams[\"font.family\"] = font_prop.get_name()\n",
    "plt.rcParams['axes.unicode_minus'] = False "
   ]
  },
  {
   "cell_type": "code",
   "execution_count": 36,
   "id": "9bb51781-d139-4111-8675-e21118fdf252",
   "metadata": {},
   "outputs": [
    {
     "data": {
      "image/png": "[encoded data removed]",
      "text/plain": [
       "<Figure size 640x480 with 1 Axes>"
      ]
     },
     "metadata": {},
     "output_type": "display_data"
    }
   ],
   "source": [
    "# 신장 데이터에 대한 상자 그림\n",
    "plt.boxplot(df_ROS_extract_null['신장'])\n",
    "plt.title('신장 이상치')\n",
    "plt.ylabel('Height (cm)')\n",
    "plt.show()"
   ]
  },
  {
   "cell_type": "code",
   "execution_count": 37,
   "id": "7ee565ca-c2c8-43ab-aa88-a19dbc6edf26",
   "metadata": {},
   "outputs": [
    {
     "data": {
      "image/png": "[encoded data removed]",
      "text/plain": [
       "<Figure size 640x480 with 1 Axes>"
      ]
     },
     "metadata": {},
     "output_type": "display_data"
    }
   ],
   "source": [
    "# 체중 데이터에 대한 상자 그림\n",
    "plt.boxplot(df_ROS_extract_null['체중'])\n",
    "plt.title('체중 이상치')\n",
    "plt.ylabel('Weight (kg)')\n",
    "plt.show()"
   ]
  },
  {
   "cell_type": "code",
   "execution_count": 38,
   "id": "ef8eb395-9573-4547-94bd-eada74ca9136",
   "metadata": {},
   "outputs": [],
   "source": [
    "def remove_outliers(df, column_name):\n",
    "    Q1 = df[column_name].quantile(0.25)\n",
    "    Q3 = df[column_name].quantile(0.75)\n",
    "    IQR = Q3 - Q1\n",
    "    lower_bound = Q1 - 1.5 * IQR\n",
    "    upper_bound = Q3 + 1.5 * IQR\n",
    "    \n",
    "    df_cleaned = df[(df[column_name] >= lower_bound) & (df[column_name] <= upper_bound)]\n",
    "    \n",
    "    return df_cleaned"
   ]
  },
  {
   "cell_type": "code",
   "execution_count": 39,
   "id": "e5adc984-4d6d-47ca-95d1-8252d220f45d",
   "metadata": {},
   "outputs": [],
   "source": [
    "# \"신장\" 열의 이상치 제거\n",
    "df_ROS_extract_null = remove_outliers(df_ROS_extract_null, '신장')"
   ]
  },
  {
   "cell_type": "code",
   "execution_count": 40,
   "id": "a3e1a772-5091-4654-b71c-d3d3237e4a48",
   "metadata": {},
   "outputs": [],
   "source": [
    "# \"체중\" 열의 이상치 제거\n",
    "df_ROS_extract_null = remove_outliers(df_ROS_extract_null, '체중')"
   ]
  },
  {
   "cell_type": "code",
   "execution_count": 41,
   "id": "749ed43f-5286-440f-8c81-48e2de173919",
   "metadata": {},
   "outputs": [
    {
     "data": {
      "image/png": "[encoded data removed]",
      "text/plain": [
       "<Figure size 640x480 with 1 Axes>"
      ]
     },
     "metadata": {},
     "output_type": "display_data"
    }
   ],
   "source": [
    "plt.boxplot(df_ROS_extract_null['신장'])\n",
    "plt.title('신장 이상치 제거')\n",
    "plt.ylabel('Height (cm)')\n",
    "plt.show()"
   ]
  },
  {
   "cell_type": "code",
   "execution_count": 42,
   "id": "f2020d59-ab7f-4f0e-8f2f-441442b6db00",
   "metadata": {},
   "outputs": [
    {
     "data": {
      "image/png": "[encoded data removed]",
      "text/plain": [
       "<Figure size 640x480 with 1 Axes>"
      ]
     },
     "metadata": {},
     "output_type": "display_data"
    }
   ],
   "source": [
    "# 체중 데이터에 대한 상자 그림\n",
    "plt.boxplot(df_ROS_extract_null['체중'])\n",
    "plt.title('체중 이상치 제거')\n",
    "plt.ylabel('Weight (kg)')\n",
    "plt.show() "
   ]
  },
  {
   "cell_type": "markdown",
   "id": "5a85f29c-7e21-4bc1-93b2-225c1e717cf5",
   "metadata": {},
   "source": [
    "### Scaling & Encoding"
   ]
  },
  {
   "cell_type": "code",
   "execution_count": 43,
   "id": "b3538db1-32e8-41bf-9c34-bab4be659cc7",
   "metadata": {
    "tags": []
   },
   "outputs": [
    {
     "data": {
      "text/plain": [
       "척추전방위증  체중    신장   환자통증정도  스테로이드치료  수술기법  과거수술횟수\n",
       "0       73.8  174  7       1        TELD  0         4\n",
       "        62.0  170  7       1        TELD  0         3\n",
       "              180  8       1        TELD  0         3\n",
       "        59.7  161  8       1        TELD  0         3\n",
       "        59.6  161  7       1        TELD  0         3\n",
       "                                                   ..\n",
       "        63.0  152  7       1        TELD  0         1\n",
       "                   1       0        TELD  0         1\n",
       "              150  2       1        TELD  0         1\n",
       "        62.8  159  9       1        TELD  0         1\n",
       "1       93.0  175  8       0        TELD  0         1\n",
       "Length: 1715, dtype: int64"
      ]
     },
     "execution_count": 43,
     "metadata": {},
     "output_type": "execute_result"
    }
   ],
   "source": [
    "df_ROS_extract_null.value_counts()"
   ]
  },
  {
   "cell_type": "code",
   "execution_count": 44,
   "id": "04cb4c9e-1976-48c0-9be5-37c317b3f5b7",
   "metadata": {
    "tags": []
   },
   "outputs": [
    {
     "data": {
      "text/plain": [
       "(1861, 7)"
      ]
     },
     "execution_count": 44,
     "metadata": {},
     "output_type": "execute_result"
    }
   ],
   "source": [
    "df_ROS_extract_null.shape"
   ]
  },
  {
   "cell_type": "markdown",
   "id": "efad068b-1aa1-4b91-93ef-1a90e07cc141",
   "metadata": {},
   "source": [
    "### OneHotEncoding : 수술기법  범주형 데이터를 수치형 데이터로 변환"
   ]
  },
  {
   "cell_type": "code",
   "execution_count": 45,
   "id": "a9b99fd1-2cae-400a-a8e0-9b6ec243d28e",
   "metadata": {
    "tags": []
   },
   "outputs": [],
   "source": [
    "from sklearn.preprocessing import OneHotEncoder"
   ]
  },
  {
   "cell_type": "code",
   "execution_count": 46,
   "id": "0c586948-f286-4de9-b406-3fdc0806c884",
   "metadata": {
    "tags": []
   },
   "outputs": [
    {
     "data": {
      "text/html": [
       "<style>#sk-container-id-2 {color: black;background-color: white;}#sk-container-id-2 pre{padding: 0;}#sk-container-id-2 div.sk-toggleable {background-color: white;}#sk-container-id-2 label.sk-toggleable__label {cursor: pointer;display: block;width: 100%;margin-bottom: 0;padding: 0.3em;box-sizing: border-box;text-align: center;}#sk-container-id-2 label.sk-toggleable__label-arrow:before {content: \"▸\";float: left;margin-right: 0.25em;color: #696969;}#sk-container-id-2 label.sk-toggleable__label-arrow:hover:before {color: black;}#sk-container-id-2 div.sk-estimator:hover label.sk-toggleable__label-arrow:before {color: black;}#sk-container-id-2 div.sk-toggleable__content {max-height: 0;max-width: 0;overflow: hidden;text-align: left;background-color: #f0f8ff;}#sk-container-id-2 div.sk-toggleable__content pre {margin: 0.2em;color: black;border-radius: 0.25em;background-color: #f0f8ff;}#sk-container-id-2 input.sk-toggleable__control:checked~div.sk-toggleable__content {max-height: 200px;max-width: 100%;overflow: auto;}#sk-container-id-2 input.sk-toggleable__control:checked~label.sk-toggleable__label-arrow:before {content: \"▾\";}#sk-container-id-2 div.sk-estimator input.sk-toggleable__control:checked~label.sk-toggleable__label {background-color: #d4ebff;}#sk-container-id-2 div.sk-label input.sk-toggleable__control:checked~label.sk-toggleable__label {background-color: #d4ebff;}#sk-container-id-2 input.sk-hidden--visually {border: 0;clip: rect(1px 1px 1px 1px);clip: rect(1px, 1px, 1px, 1px);height: 1px;margin: -1px;overflow: hidden;padding: 0;position: absolute;width: 1px;}#sk-container-id-2 div.sk-estimator {font-family: monospace;background-color: #f0f8ff;border: 1px dotted black;border-radius: 0.25em;box-sizing: border-box;margin-bottom: 0.5em;}#sk-container-id-2 div.sk-estimator:hover {background-color: #d4ebff;}#sk-container-id-2 div.sk-parallel-item::after {content: \"\";width: 100%;border-bottom: 1px solid gray;flex-grow: 1;}#sk-container-id-2 div.sk-label:hover label.sk-toggleable__label {background-color: #d4ebff;}#sk-container-id-2 div.sk-serial::before {content: \"\";position: absolute;border-left: 1px solid gray;box-sizing: border-box;top: 0;bottom: 0;left: 50%;z-index: 0;}#sk-container-id-2 div.sk-serial {display: flex;flex-direction: column;align-items: center;background-color: white;padding-right: 0.2em;padding-left: 0.2em;position: relative;}#sk-container-id-2 div.sk-item {position: relative;z-index: 1;}#sk-container-id-2 div.sk-parallel {display: flex;align-items: stretch;justify-content: center;background-color: white;position: relative;}#sk-container-id-2 div.sk-item::before, #sk-container-id-2 div.sk-parallel-item::before {content: \"\";position: absolute;border-left: 1px solid gray;box-sizing: border-box;top: 0;bottom: 0;left: 50%;z-index: -1;}#sk-container-id-2 div.sk-parallel-item {display: flex;flex-direction: column;z-index: 1;position: relative;background-color: white;}#sk-container-id-2 div.sk-parallel-item:first-child::after {align-self: flex-end;width: 50%;}#sk-container-id-2 div.sk-parallel-item:last-child::after {align-self: flex-start;width: 50%;}#sk-container-id-2 div.sk-parallel-item:only-child::after {width: 0;}#sk-container-id-2 div.sk-dashed-wrapped {border: 1px dashed gray;margin: 0 0.4em 0.5em 0.4em;box-sizing: border-box;padding-bottom: 0.4em;background-color: white;}#sk-container-id-2 div.sk-label label {font-family: monospace;font-weight: bold;display: inline-block;line-height: 1.2em;}#sk-container-id-2 div.sk-label-container {text-align: center;}#sk-container-id-2 div.sk-container {/* jupyter's `normalize.less` sets `[hidden] { display: none; }` but bootstrap.min.css set `[hidden] { display: none !important; }` so we also need the `!important` here to be able to override the default hidden behavior on the sphinx rendered scikit-learn.org. See: https://github.com/scikit-learn/scikit-learn/issues/21755 */display: inline-block !important;position: relative;}#sk-container-id-2 div.sk-text-repr-fallback {display: none;}</style><div id=\"sk-container-id-2\" class=\"sk-top-container\"><div class=\"sk-text-repr-fallback\"><pre>OneHotEncoder()</pre><b>In a Jupyter environment, please rerun this cell to show the HTML representation or trust the notebook. <br />On GitHub, the HTML representation is unable to render, please try loading this page with nbviewer.org.</b></div><div class=\"sk-container\" hidden><div class=\"sk-item\"><div class=\"sk-estimator sk-toggleable\"><input class=\"sk-toggleable__control sk-hidden--visually\" id=\"sk-estimator-id-2\" type=\"checkbox\" checked><label for=\"sk-estimator-id-2\" class=\"sk-toggleable__label sk-toggleable__label-arrow\">OneHotEncoder</label><div class=\"sk-toggleable__content\"><pre>OneHotEncoder()</pre></div></div></div></div></div>"
      ],
      "text/plain": [
       "OneHotEncoder()"
      ]
     },
     "execution_count": 46,
     "metadata": {},
     "output_type": "execute_result"
    }
   ],
   "source": [
    "oneHotEncoder = OneHotEncoder()\n",
    "oneHotEncoder.fit(df_ROS_extract_null[['수술기법']]) "
   ]
  },
  {
   "cell_type": "code",
   "execution_count": 47,
   "id": "0ae8afb7-6894-4a1a-b6a1-4162cf51c2b9",
   "metadata": {
    "tags": []
   },
   "outputs": [],
   "source": [
    "columns_name = oneHotEncoder.categories_"
   ]
  },
  {
   "cell_type": "code",
   "execution_count": 48,
   "id": "3ce1b665-7f02-48f1-92f6-9f4179cb0004",
   "metadata": {
    "tags": []
   },
   "outputs": [],
   "source": [
    "# oneHotEncoder.transform(df_TFD_extract_preprocess[['Pclass']]).toarray() # 실제값 확인용\n",
    "encoded_data = oneHotEncoder.transform(df_ROS_extract_null[['수술기법']]).toarray()"
   ]
  },
  {
   "cell_type": "code",
   "execution_count": 49,
   "id": "eaefdd1c-3f43-4869-b63f-85ed1c9aaaf9",
   "metadata": {
    "tags": []
   },
   "outputs": [
    {
     "data": {
      "text/plain": [
       "(1861, 2)"
      ]
     },
     "execution_count": 49,
     "metadata": {},
     "output_type": "execute_result"
    }
   ],
   "source": [
    "encoded_data.shape"
   ]
  },
  {
   "cell_type": "code",
   "execution_count": 50,
   "id": "fd085917-5a44-4c3b-8913-595a4038c91e",
   "metadata": {
    "tags": []
   },
   "outputs": [
    {
     "data": {
      "text/html": [
       "<div>\n",
       "<style scoped>\n",
       "    .dataframe tbody tr th:only-of-type {\n",
       "        vertical-align: middle;\n",
       "    }\n",
       "\n",
       "    .dataframe tbody tr th {\n",
       "        vertical-align: top;\n",
       "    }\n",
       "\n",
       "    .dataframe thead th {\n",
       "        text-align: right;\n",
       "    }\n",
       "</style>\n",
       "<table border=\"1\" class=\"dataframe\">\n",
       "  <thead>\n",
       "    <tr style=\"text-align: right;\">\n",
       "      <th></th>\n",
       "      <th>수술기법_IELD</th>\n",
       "      <th>수술기법_TELD</th>\n",
       "    </tr>\n",
       "  </thead>\n",
       "  <tbody>\n",
       "    <tr>\n",
       "      <th>0</th>\n",
       "      <td>0.0</td>\n",
       "      <td>1.0</td>\n",
       "    </tr>\n",
       "    <tr>\n",
       "      <th>1</th>\n",
       "      <td>0.0</td>\n",
       "      <td>1.0</td>\n",
       "    </tr>\n",
       "  </tbody>\n",
       "</table>\n",
       "</div>"
      ],
      "text/plain": [
       "   수술기법_IELD  수술기법_TELD\n",
       "0        0.0        1.0\n",
       "1        0.0        1.0"
      ]
     },
     "execution_count": 50,
     "metadata": {},
     "output_type": "execute_result"
    }
   ],
   "source": [
    "# 병합 위해 numpy array to DataFrame\n",
    "df_encoded_data = pd.DataFrame(data=encoded_data, columns=oneHotEncoder.get_feature_names_out(['수술기법']))\n",
    "df_encoded_data[:2]"
   ]
  },
  {
   "cell_type": "code",
   "execution_count": 51,
   "id": "556c06f0-814b-4aa4-847e-4970ab7e9c6c",
   "metadata": {
    "tags": []
   },
   "outputs": [
    {
     "data": {
      "text/html": [
       "<div>\n",
       "<style scoped>\n",
       "    .dataframe tbody tr th:only-of-type {\n",
       "        vertical-align: middle;\n",
       "    }\n",
       "\n",
       "    .dataframe tbody tr th {\n",
       "        vertical-align: top;\n",
       "    }\n",
       "\n",
       "    .dataframe thead th {\n",
       "        text-align: right;\n",
       "    }\n",
       "</style>\n",
       "<table border=\"1\" class=\"dataframe\">\n",
       "  <thead>\n",
       "    <tr style=\"text-align: right;\">\n",
       "      <th></th>\n",
       "      <th>척추전방위증</th>\n",
       "      <th>체중</th>\n",
       "      <th>신장</th>\n",
       "      <th>환자통증정도</th>\n",
       "      <th>스테로이드치료</th>\n",
       "      <th>수술기법</th>\n",
       "      <th>과거수술횟수</th>\n",
       "      <th>수술기법_IELD</th>\n",
       "      <th>수술기법_TELD</th>\n",
       "    </tr>\n",
       "  </thead>\n",
       "  <tbody>\n",
       "    <tr>\n",
       "      <th>0</th>\n",
       "      <td>0</td>\n",
       "      <td>60.3</td>\n",
       "      <td>163</td>\n",
       "      <td>10</td>\n",
       "      <td>1</td>\n",
       "      <td>TELD</td>\n",
       "      <td>0</td>\n",
       "      <td>0.0</td>\n",
       "      <td>1.0</td>\n",
       "    </tr>\n",
       "    <tr>\n",
       "      <th>1</th>\n",
       "      <td>0</td>\n",
       "      <td>71.7</td>\n",
       "      <td>171</td>\n",
       "      <td>10</td>\n",
       "      <td>1</td>\n",
       "      <td>TELD</td>\n",
       "      <td>0</td>\n",
       "      <td>0.0</td>\n",
       "      <td>1.0</td>\n",
       "    </tr>\n",
       "  </tbody>\n",
       "</table>\n",
       "</div>"
      ],
      "text/plain": [
       "   척추전방위증    체중   신장  환자통증정도  스테로이드치료  수술기법  과거수술횟수  수술기법_IELD  수술기법_TELD\n",
       "0       0  60.3  163      10        1  TELD       0        0.0        1.0\n",
       "1       0  71.7  171      10        1  TELD       0        0.0        1.0"
      ]
     },
     "execution_count": 51,
     "metadata": {},
     "output_type": "execute_result"
    }
   ],
   "source": [
    "df_ROS_extract_encoded = pd.concat([df_ROS_extract_null.reset_index(drop=True)\n",
    "                                       , df_encoded_data.reset_index(drop=True)], axis=1)\n",
    "df_ROS_extract_encoded[:2]"
   ]
  },
  {
   "cell_type": "code",
   "execution_count": 52,
   "id": "99b5d0ab-99ef-42d1-a214-8293966d31b2",
   "metadata": {
    "tags": []
   },
   "outputs": [
    {
     "data": {
      "text/plain": [
       "(RangeIndex(start=0, stop=1861, step=1), (1861, 2))"
      ]
     },
     "execution_count": 52,
     "metadata": {},
     "output_type": "execute_result"
    }
   ],
   "source": [
    "df_encoded_data.index, df_encoded_data.shape"
   ]
  },
  {
   "cell_type": "code",
   "execution_count": 53,
   "id": "c242dea6-7d77-47e4-8021-ea9d834e6ea3",
   "metadata": {
    "tags": []
   },
   "outputs": [
    {
     "data": {
      "text/plain": [
       "(Int64Index([   0,    1,    2,    3,    4,    5,    6,    7,    8,    9,\n",
       "             ...\n",
       "             1884, 1885, 1886, 1887, 1888, 1889, 1890, 1891, 1892, 1893],\n",
       "            dtype='int64', length=1861),\n",
       " (1861, 7))"
      ]
     },
     "execution_count": 53,
     "metadata": {},
     "output_type": "execute_result"
    }
   ],
   "source": [
    "df_ROS_extract_null.index, df_ROS_extract_null.shape"
   ]
  },
  {
   "cell_type": "code",
   "execution_count": 54,
   "id": "4aebc5ef-767d-4222-9fad-73634f5159c7",
   "metadata": {
    "tags": []
   },
   "outputs": [
    {
     "data": {
      "text/plain": [
       "(1861, 9)"
      ]
     },
     "execution_count": 54,
     "metadata": {},
     "output_type": "execute_result"
    }
   ],
   "source": [
    "df_ROS_extract_encoded.shape"
   ]
  },
  {
   "cell_type": "code",
   "execution_count": 55,
   "id": "9c9c4de0-db38-4c1a-ad5b-33d0030a3aa1",
   "metadata": {
    "tags": []
   },
   "outputs": [
    {
     "data": {
      "text/plain": [
       "Index(['척추전방위증', '체중', '신장', '환자통증정도', '스테로이드치료', '수술기법', '과거수술횟수',\n",
       "       '수술기법_IELD', '수술기법_TELD'],\n",
       "      dtype='object')"
      ]
     },
     "execution_count": 55,
     "metadata": {},
     "output_type": "execute_result"
    }
   ],
   "source": [
    "df_ROS_extract_encoded.columns"
   ]
  },
  {
   "cell_type": "code",
   "execution_count": 56,
   "id": "5c3bfdeb-df07-4ca3-8337-67be25e84e79",
   "metadata": {
    "tags": []
   },
   "outputs": [],
   "source": [
    "target = df_ROS_extract_encoded[['척추전방위증']] "
   ]
  },
  {
   "cell_type": "code",
   "execution_count": 57,
   "id": "b47340f0-0201-43f3-97b7-64f30e326913",
   "metadata": {
    "tags": []
   },
   "outputs": [],
   "source": [
    "features = df_ROS_extract_encoded.drop(columns=['척추전방위증','수술기법'])"
   ]
  },
  {
   "cell_type": "code",
   "execution_count": 58,
   "id": "749cd2b6-eb34-475f-95c1-f1651e50edbe",
   "metadata": {
    "tags": []
   },
   "outputs": [
    {
     "data": {
      "text/plain": [
       "Index(['체중', '신장', '환자통증정도', '스테로이드치료', '과거수술횟수', '수술기법_IELD', '수술기법_TELD'], dtype='object')"
      ]
     },
     "execution_count": 58,
     "metadata": {},
     "output_type": "execute_result"
    }
   ],
   "source": [
    "features.columns"
   ]
  },
  {
   "cell_type": "code",
   "execution_count": 59,
   "id": "1286503f-eb9f-40a1-b528-6ed06e6fee5b",
   "metadata": {
    "tags": []
   },
   "outputs": [
    {
     "data": {
      "text/plain": [
       "Index(['척추전방위증'], dtype='object')"
      ]
     },
     "execution_count": 59,
     "metadata": {},
     "output_type": "execute_result"
    }
   ],
   "source": [
    "target.columns"
   ]
  },
  {
   "cell_type": "code",
   "execution_count": 60,
   "id": "419d03d3-050a-4153-ad71-1352ce077f0b",
   "metadata": {
    "tags": []
   },
   "outputs": [
    {
     "data": {
      "text/plain": [
       "척추전방위증\n",
       "0         1800\n",
       "1           61\n",
       "dtype: int64"
      ]
     },
     "execution_count": 60,
     "metadata": {},
     "output_type": "execute_result"
    }
   ],
   "source": [
    "target.value_counts()"
   ]
  },
  {
   "cell_type": "markdown",
   "id": "d97fc58c-a9f1-4379-8fcd-df97d5150be3",
   "metadata": {},
   "source": [
    "### MinMaxScaler"
   ]
  },
  {
   "cell_type": "code",
   "execution_count": 61,
   "id": "5abb9f84-d7e8-4ba8-accb-f96fc72b3c96",
   "metadata": {
    "tags": []
   },
   "outputs": [],
   "source": [
    "from sklearn.preprocessing import MinMaxScaler"
   ]
  },
  {
   "cell_type": "code",
   "execution_count": 62,
   "id": "4fc29cb6-e92b-4f2d-84c3-212526671dab",
   "metadata": {
    "tags": []
   },
   "outputs": [
    {
     "data": {
      "text/plain": [
       "(1861, 7)"
      ]
     },
     "execution_count": 62,
     "metadata": {},
     "output_type": "execute_result"
    }
   ],
   "source": [
    "minMaxScaler = MinMaxScaler() # 인스턴스화\n",
    "features = minMaxScaler.fit_transform(features)\n",
    "features.shape"
   ]
  },
  {
   "cell_type": "markdown",
   "id": "0e8cc181-0a8f-4506-af56-f8c9430e972c",
   "metadata": {
    "tags": []
   },
   "source": [
    "#### Resampling"
   ]
  },
  {
   "cell_type": "code",
   "execution_count": 63,
   "id": "a1a70128-5753-4b0a-8929-bded1067a2ae",
   "metadata": {
    "tags": []
   },
   "outputs": [],
   "source": [
    "from sklearn.metrics import classification_report\n",
    "from collections import Counter"
   ]
  },
  {
   "cell_type": "code",
   "execution_count": 64,
   "id": "a5a44d6f-d5e5-4884-bd29-16ac42eed1a8",
   "metadata": {
    "tags": []
   },
   "outputs": [
    {
     "data": {
      "text/plain": [
       "Counter({'척추전방위증': 1})"
      ]
     },
     "execution_count": 64,
     "metadata": {},
     "output_type": "execute_result"
    }
   ],
   "source": [
    "# resampling 하기 전\n",
    "Counter(target)"
   ]
  },
  {
   "cell_type": "code",
   "execution_count": 65,
   "id": "c49bd861-9c36-4360-8fa3-cf4a50f37de1",
   "metadata": {
    "tags": []
   },
   "outputs": [],
   "source": [
    "# Combine Sampling\n",
    "from imblearn.combine import SMOTEENN\n",
    "resample = SMOTEENN(sampling_strategy=0.50)\n",
    "features_combine_resample, target_combine_resample = resample.fit_resample(features, target)"
   ]
  },
  {
   "cell_type": "code",
   "execution_count": 66,
   "id": "4cf20759-f338-4162-a9b4-af542dc56a57",
   "metadata": {
    "tags": []
   },
   "outputs": [
    {
     "data": {
      "text/plain": [
       "Counter({'척추전방위증': 1})"
      ]
     },
     "execution_count": 66,
     "metadata": {},
     "output_type": "execute_result"
    }
   ],
   "source": [
    "# resampling 하기 후\n",
    "Counter(target)"
   ]
  },
  {
   "cell_type": "code",
   "execution_count": 67,
   "id": "ba354bd3-236b-4323-9426-00e0fc24c254",
   "metadata": {
    "tags": []
   },
   "outputs": [
    {
     "name": "stdout",
     "output_type": "stream",
     "text": [
      "(1378, 7)\n",
      "(1378, 1)\n",
      "(591, 7)\n",
      "(591, 1)\n"
     ]
    }
   ],
   "source": [
    "features_train, features_test, target_train, target_test = train_test_split(features_combine_resample, target_combine_resample\n",
    "                                                                           , test_size = 0.3, random_state= 1234)\n",
    "print(features_train.shape)\n",
    "print(target_train.shape)\n",
    "print(features_test .shape)\n",
    "print(target_test.shape)"
   ]
  },
  {
   "cell_type": "code",
   "execution_count": 68,
   "id": "13c4bb13-d58d-4b86-9f56-332df7f4ca9e",
   "metadata": {},
   "outputs": [],
   "source": [
    "# undersampling data count 시 data 200이하로 부적합 판단\n",
    "# (119, 7)\n",
    "# (119, 1)\n",
    "# (52, 7)\n",
    "# (52, 1)"
   ]
  },
  {
   "cell_type": "markdown",
   "id": "19973734-311d-454a-8e24-d51f103d2048",
   "metadata": {},
   "source": [
    "### 정형화 Split"
   ]
  },
  {
   "cell_type": "code",
   "execution_count": 69,
   "id": "b39a4504-4de3-4e6a-a980-cabe3899413f",
   "metadata": {
    "tags": []
   },
   "outputs": [],
   "source": [
    "from sklearn.model_selection import train_test_split"
   ]
  },
  {
   "cell_type": "code",
   "execution_count": 70,
   "id": "af9b372e-80ad-4454-a667-fb3c1e4934c7",
   "metadata": {
    "tags": []
   },
   "outputs": [
    {
     "data": {
      "text/plain": [
       "((1395, 7), (1395, 1), (466, 7), (466, 1))"
      ]
     },
     "execution_count": 70,
     "metadata": {},
     "output_type": "execute_result"
    }
   ],
   "source": [
    "features_train, features_test, target_train, target_test = train_test_split(features, target, random_state=111)\n",
    "features_train.shape, target_train.shape, features_test.shape, target_test.shape"
   ]
  },
  {
   "cell_type": "markdown",
   "id": "9a77ba58-841b-4e24-8175-0b69ef7b42a6",
   "metadata": {
    "tags": []
   },
   "source": [
    "### 모델학습 (machine learning)"
   ]
  },
  {
   "cell_type": "code",
   "execution_count": 71,
   "id": "c524a2c6-3a54-464d-bd0a-338084bfc4ee",
   "metadata": {
    "tags": []
   },
   "outputs": [],
   "source": [
    "from sklearn.tree import DecisionTreeClassifier # 연속형 변수와 관련된 작업 = Tree"
   ]
  },
  {
   "cell_type": "code",
   "execution_count": 72,
   "id": "73595d78-5f5c-411a-8b4b-9fdc4f51e9e3",
   "metadata": {
    "tags": []
   },
   "outputs": [],
   "source": [
    "Spondylolisthesis_model = DecisionTreeClassifier(max_depth=5, min_samples_leaf=2, criterion='gini', class_weight=None, min_samples_split=2)"
   ]
  },
  {
   "cell_type": "markdown",
   "id": "9e9d830e-099c-444a-8970-00e9f5b2dac7",
   "metadata": {},
   "source": [
    "### GridSearchCV"
   ]
  },
  {
   "cell_type": "code",
   "execution_count": 73,
   "id": "9ea84e1e-2770-495a-8650-accdfad9c7bb",
   "metadata": {
    "tags": []
   },
   "outputs": [],
   "source": [
    "from sklearn.model_selection import GridSearchCV\n",
    "from sklearn.metrics import make_scorer, f1_score"
   ]
  },
  {
   "cell_type": "code",
   "execution_count": 74,
   "id": "d96e09e6-5e65-420c-99c2-6ef5b78537ef",
   "metadata": {},
   "outputs": [],
   "source": [
    "scoring = make_scorer(f1_score)\n",
    "hyper_list = {\n",
    "    'max_depth': range(2, 10),\n",
    "    'min_samples_leaf': range(2, 10),\n",
    "    'criterion': ['gini', 'entropy'],\n",
    "    'class_weight': [None, 'balanced'],\n",
    "    'min_samples_split': range(2, 10)\n",
    "}\n",
    "# hyper_list = {'model__max_depth':range(2, 3),}\n",
    "\n",
    "grid_model = GridSearchCV(Spondylolisthesis_model, param_grid=hyper_list,\n",
    "                          scoring=scoring,\n",
    "                          n_jobs = -1,\n",
    "                          cv = 5)"
   ]
  },
  {
   "cell_type": "code",
   "execution_count": 75,
   "id": "37cb6702-2cde-4b09-bff1-6d3ef349d6b5",
   "metadata": {
    "tags": []
   },
   "outputs": [
    {
     "data": {
      "text/plain": [
       "Counter({'척추전방위증': 1})"
      ]
     },
     "execution_count": 75,
     "metadata": {},
     "output_type": "execute_result"
    }
   ],
   "source": [
    "from collections import Counter\n",
    "Counter(target)"
   ]
  },
  {
   "cell_type": "code",
   "execution_count": 78,
   "id": "cc8c8122-d107-4e1e-82fa-b70677ac741b",
   "metadata": {},
   "outputs": [],
   "source": [
    "from datetime import datetime\n",
    "start = datetime.now()  # start date and time"
   ]
  },
  {
   "cell_type": "code",
   "execution_count": 79,
   "id": "c8e7ca53-1f1f-4afd-9284-280ac365c2ca",
   "metadata": {},
   "outputs": [
    {
     "data": {
      "text/html": [
       "<style>#sk-container-id-3 {color: black;background-color: white;}#sk-container-id-3 pre{padding: 0;}#sk-container-id-3 div.sk-toggleable {background-color: white;}#sk-container-id-3 label.sk-toggleable__label {cursor: pointer;display: block;width: 100%;margin-bottom: 0;padding: 0.3em;box-sizing: border-box;text-align: center;}#sk-container-id-3 label.sk-toggleable__label-arrow:before {content: \"▸\";float: left;margin-right: 0.25em;color: #696969;}#sk-container-id-3 label.sk-toggleable__label-arrow:hover:before {color: black;}#sk-container-id-3 div.sk-estimator:hover label.sk-toggleable__label-arrow:before {color: black;}#sk-container-id-3 div.sk-toggleable__content {max-height: 0;max-width: 0;overflow: hidden;text-align: left;background-color: #f0f8ff;}#sk-container-id-3 div.sk-toggleable__content pre {margin: 0.2em;color: black;border-radius: 0.25em;background-color: #f0f8ff;}#sk-container-id-3 input.sk-toggleable__control:checked~div.sk-toggleable__content {max-height: 200px;max-width: 100%;overflow: auto;}#sk-container-id-3 input.sk-toggleable__control:checked~label.sk-toggleable__label-arrow:before {content: \"▾\";}#sk-container-id-3 div.sk-estimator input.sk-toggleable__control:checked~label.sk-toggleable__label {background-color: #d4ebff;}#sk-container-id-3 div.sk-label input.sk-toggleable__control:checked~label.sk-toggleable__label {background-color: #d4ebff;}#sk-container-id-3 input.sk-hidden--visually {border: 0;clip: rect(1px 1px 1px 1px);clip: rect(1px, 1px, 1px, 1px);height: 1px;margin: -1px;overflow: hidden;padding: 0;position: absolute;width: 1px;}#sk-container-id-3 div.sk-estimator {font-family: monospace;background-color: #f0f8ff;border: 1px dotted black;border-radius: 0.25em;box-sizing: border-box;margin-bottom: 0.5em;}#sk-container-id-3 div.sk-estimator:hover {background-color: #d4ebff;}#sk-container-id-3 div.sk-parallel-item::after {content: \"\";width: 100%;border-bottom: 1px solid gray;flex-grow: 1;}#sk-container-id-3 div.sk-label:hover label.sk-toggleable__label {background-color: #d4ebff;}#sk-container-id-3 div.sk-serial::before {content: \"\";position: absolute;border-left: 1px solid gray;box-sizing: border-box;top: 0;bottom: 0;left: 50%;z-index: 0;}#sk-container-id-3 div.sk-serial {display: flex;flex-direction: column;align-items: center;background-color: white;padding-right: 0.2em;padding-left: 0.2em;position: relative;}#sk-container-id-3 div.sk-item {position: relative;z-index: 1;}#sk-container-id-3 div.sk-parallel {display: flex;align-items: stretch;justify-content: center;background-color: white;position: relative;}#sk-container-id-3 div.sk-item::before, #sk-container-id-3 div.sk-parallel-item::before {content: \"\";position: absolute;border-left: 1px solid gray;box-sizing: border-box;top: 0;bottom: 0;left: 50%;z-index: -1;}#sk-container-id-3 div.sk-parallel-item {display: flex;flex-direction: column;z-index: 1;position: relative;background-color: white;}#sk-container-id-3 div.sk-parallel-item:first-child::after {align-self: flex-end;width: 50%;}#sk-container-id-3 div.sk-parallel-item:last-child::after {align-self: flex-start;width: 50%;}#sk-container-id-3 div.sk-parallel-item:only-child::after {width: 0;}#sk-container-id-3 div.sk-dashed-wrapped {border: 1px dashed gray;margin: 0 0.4em 0.5em 0.4em;box-sizing: border-box;padding-bottom: 0.4em;background-color: white;}#sk-container-id-3 div.sk-label label {font-family: monospace;font-weight: bold;display: inline-block;line-height: 1.2em;}#sk-container-id-3 div.sk-label-container {text-align: center;}#sk-container-id-3 div.sk-container {/* jupyter's `normalize.less` sets `[hidden] { display: none; }` but bootstrap.min.css set `[hidden] { display: none !important; }` so we also need the `!important` here to be able to override the default hidden behavior on the sphinx rendered scikit-learn.org. See: https://github.com/scikit-learn/scikit-learn/issues/21755 */display: inline-block !important;position: relative;}#sk-container-id-3 div.sk-text-repr-fallback {display: none;}</style><div id=\"sk-container-id-3\" class=\"sk-top-container\"><div class=\"sk-text-repr-fallback\"><pre>GridSearchCV(cv=5,\n",
       "             estimator=DecisionTreeClassifier(max_depth=5, min_samples_leaf=2),\n",
       "             n_jobs=-1,\n",
       "             param_grid={&#x27;class_weight&#x27;: [None, &#x27;balanced&#x27;],\n",
       "                         &#x27;criterion&#x27;: [&#x27;gini&#x27;, &#x27;entropy&#x27;],\n",
       "                         &#x27;max_depth&#x27;: range(2, 10),\n",
       "                         &#x27;min_samples_leaf&#x27;: range(2, 10),\n",
       "                         &#x27;min_samples_split&#x27;: range(2, 10)},\n",
       "             scoring=make_scorer(f1_score))</pre><b>In a Jupyter environment, please rerun this cell to show the HTML representation or trust the notebook. <br />On GitHub, the HTML representation is unable to render, please try loading this page with nbviewer.org.</b></div><div class=\"sk-container\" hidden><div class=\"sk-item sk-dashed-wrapped\"><div class=\"sk-label-container\"><div class=\"sk-label sk-toggleable\"><input class=\"sk-toggleable__control sk-hidden--visually\" id=\"sk-estimator-id-3\" type=\"checkbox\" ><label for=\"sk-estimator-id-3\" class=\"sk-toggleable__label sk-toggleable__label-arrow\">GridSearchCV</label><div class=\"sk-toggleable__content\"><pre>GridSearchCV(cv=5,\n",
       "             estimator=DecisionTreeClassifier(max_depth=5, min_samples_leaf=2),\n",
       "             n_jobs=-1,\n",
       "             param_grid={&#x27;class_weight&#x27;: [None, &#x27;balanced&#x27;],\n",
       "                         &#x27;criterion&#x27;: [&#x27;gini&#x27;, &#x27;entropy&#x27;],\n",
       "                         &#x27;max_depth&#x27;: range(2, 10),\n",
       "                         &#x27;min_samples_leaf&#x27;: range(2, 10),\n",
       "                         &#x27;min_samples_split&#x27;: range(2, 10)},\n",
       "             scoring=make_scorer(f1_score))</pre></div></div></div><div class=\"sk-parallel\"><div class=\"sk-parallel-item\"><div class=\"sk-item\"><div class=\"sk-label-container\"><div class=\"sk-label sk-toggleable\"><input class=\"sk-toggleable__control sk-hidden--visually\" id=\"sk-estimator-id-4\" type=\"checkbox\" ><label for=\"sk-estimator-id-4\" class=\"sk-toggleable__label sk-toggleable__label-arrow\">estimator: DecisionTreeClassifier</label><div class=\"sk-toggleable__content\"><pre>DecisionTreeClassifier(max_depth=5, min_samples_leaf=2)</pre></div></div></div><div class=\"sk-serial\"><div class=\"sk-item\"><div class=\"sk-estimator sk-toggleable\"><input class=\"sk-toggleable__control sk-hidden--visually\" id=\"sk-estimator-id-5\" type=\"checkbox\" ><label for=\"sk-estimator-id-5\" class=\"sk-toggleable__label sk-toggleable__label-arrow\">DecisionTreeClassifier</label><div class=\"sk-toggleable__content\"><pre>DecisionTreeClassifier(max_depth=5, min_samples_leaf=2)</pre></div></div></div></div></div></div></div></div></div></div>"
      ],
      "text/plain": [
       "GridSearchCV(cv=5,\n",
       "             estimator=DecisionTreeClassifier(max_depth=5, min_samples_leaf=2),\n",
       "             n_jobs=-1,\n",
       "             param_grid={'class_weight': [None, 'balanced'],\n",
       "                         'criterion': ['gini', 'entropy'],\n",
       "                         'max_depth': range(2, 10),\n",
       "                         'min_samples_leaf': range(2, 10),\n",
       "                         'min_samples_split': range(2, 10)},\n",
       "             scoring=make_scorer(f1_score))"
      ]
     },
     "execution_count": 79,
     "metadata": {},
     "output_type": "execute_result"
    }
   ],
   "source": [
    "grid_model.fit(features_train, target_train)"
   ]
  },
  {
   "cell_type": "code",
   "execution_count": 80,
   "id": "ced56760-7a9c-4813-9170-6cfa4012ebf9",
   "metadata": {},
   "outputs": [],
   "source": [
    "end = datetime.now()  # end date and time - set to current date and time"
   ]
  },
  {
   "cell_type": "code",
   "execution_count": 81,
   "id": "0b409471-ef3c-4dc8-ac4f-139b35eab8f3",
   "metadata": {},
   "outputs": [],
   "source": [
    "duration = end - start  # duration as a timedelta object"
   ]
  },
  {
   "cell_type": "code",
   "execution_count": 83,
   "id": "e3d5f529-527d-4e38-bbac-5a8c0e36f537",
   "metadata": {},
   "outputs": [],
   "source": [
    "best_model = grid_model.best_estimator_\n",
    "target_train_pred = best_model.predict(features_train)\n",
    "target_test_pred = best_model.predict(features_test)"
   ]
  },
  {
   "cell_type": "code",
   "execution_count": 82,
   "id": "03babb28-f259-457d-86ad-08b0b57d2de5",
   "metadata": {},
   "outputs": [
    {
     "name": "stdout",
     "output_type": "stream",
     "text": [
      "Duration: 0:00:18.389497\n"
     ]
    }
   ],
   "source": [
    "print(\"Duration: {0}\".format(duration))"
   ]
  },
  {
   "cell_type": "markdown",
   "id": "9b67adff-7e27-40fc-8a14-9f80d6e24539",
   "metadata": {},
   "source": [
    "- 분류 모델에서 확인하고자 하는 Target 항목의 데이터 비율이 적으면\n",
    "- recall 이 매우 떨어지는 현상 도출"
   ]
  },
  {
   "cell_type": "code",
   "execution_count": 84,
   "id": "df14635e-cd32-44e5-be84-2bce4f62e910",
   "metadata": {},
   "outputs": [
    {
     "name": "stdout",
     "output_type": "stream",
     "text": [
      "              precision    recall  f1-score   support\n",
      "\n",
      "           0       0.99      0.83      0.91      1350\n",
      "           1       0.14      0.78      0.23        45\n",
      "\n",
      "    accuracy                           0.83      1395\n",
      "   macro avg       0.56      0.81      0.57      1395\n",
      "weighted avg       0.96      0.83      0.88      1395\n",
      "\n",
      "              precision    recall  f1-score   support\n",
      "\n",
      "           0       0.97      0.82      0.88       450\n",
      "           1       0.03      0.19      0.06        16\n",
      "\n",
      "    accuracy                           0.79       466\n",
      "   macro avg       0.50      0.50      0.47       466\n",
      "weighted avg       0.93      0.79      0.86       466\n",
      "\n"
     ]
    }
   ],
   "source": [
    "print(classification_report(target_train, target_train_pred))\n",
    "print(classification_report(target_test, target_test_pred))"
   ]
  },
  {
   "cell_type": "code",
   "execution_count": null,
   "id": "f2efb824-d8ef-4b9d-a8c7-328885a50be6",
   "metadata": {},
   "outputs": [],
   "source": []
  },
  {
   "cell_type": "markdown",
   "id": "dbe037d4-db50-4bcf-8c0b-627af4991ef5",
   "metadata": {},
   "source": [
    "### resampling과 hypertuning 필요"
   ]
  },
  {
   "cell_type": "markdown",
   "id": "bf1099bd-8698-4b27-90cb-894844e1983d",
   "metadata": {},
   "source": [
    "### Combine Sampling "
   ]
  },
  {
   "cell_type": "code",
   "execution_count": 89,
   "id": "cb6503b5-d1c1-4993-813b-e456c8f51927",
   "metadata": {},
   "outputs": [],
   "source": [
    "from imblearn.combine import SMOTEENN"
   ]
  },
  {
   "cell_type": "code",
   "execution_count": 90,
   "id": "c9e0eb90-4e93-4379-ba2d-a67ac4e5cf93",
   "metadata": {
    "tags": []
   },
   "outputs": [
    {
     "name": "stdout",
     "output_type": "stream",
     "text": [
      "------------------------------ 0.3\n",
      "Counter({'척추전방위증': 1})\n",
      "Counter({'척추전방위증': 1}) Counter({'척추전방위증': 1})\n",
      "Duration: 0:00:15.103646\n",
      "              precision    recall  f1-score   support\n",
      "\n",
      "           0       0.97      1.00      0.98      1022\n",
      "           1       0.97      0.81      0.88       186\n",
      "\n",
      "    accuracy                           0.97      1208\n",
      "   macro avg       0.97      0.90      0.93      1208\n",
      "weighted avg       0.97      0.97      0.96      1208\n",
      "\n",
      "              precision    recall  f1-score   support\n",
      "\n",
      "           0       0.94      0.98      0.96       434\n",
      "           1       0.90      0.71      0.79        85\n",
      "\n",
      "    accuracy                           0.94       519\n",
      "   macro avg       0.92      0.84      0.88       519\n",
      "weighted avg       0.94      0.94      0.94       519\n",
      "\n",
      "------------------------------\n",
      "------------------------------ 0.35\n",
      "Counter({'척추전방위증': 1})\n",
      "Counter({'척추전방위증': 1}) Counter({'척추전방위증': 1})\n",
      "Duration: 0:00:15.223268\n",
      "              precision    recall  f1-score   support\n",
      "\n",
      "           0       0.97      0.99      0.98      1013\n",
      "           1       0.96      0.85      0.90       235\n",
      "\n",
      "    accuracy                           0.97      1248\n",
      "   macro avg       0.96      0.92      0.94      1248\n",
      "weighted avg       0.97      0.97      0.96      1248\n",
      "\n",
      "              precision    recall  f1-score   support\n",
      "\n",
      "           0       0.95      0.95      0.95       442\n",
      "           1       0.78      0.74      0.76        94\n",
      "\n",
      "    accuracy                           0.92       536\n",
      "   macro avg       0.86      0.85      0.86       536\n",
      "weighted avg       0.92      0.92      0.92       536\n",
      "\n",
      "------------------------------\n",
      "------------------------------ 0.39999999999999997\n",
      "Counter({'척추전방위증': 1})\n",
      "Counter({'척추전방위증': 1}) Counter({'척추전방위증': 1})\n",
      "Duration: 0:00:15.601287\n",
      "              precision    recall  f1-score   support\n",
      "\n",
      "           0       0.95      0.98      0.97      1015\n",
      "           1       0.93      0.83      0.88       303\n",
      "\n",
      "    accuracy                           0.95      1318\n",
      "   macro avg       0.94      0.90      0.92      1318\n",
      "weighted avg       0.95      0.95      0.95      1318\n",
      "\n",
      "              precision    recall  f1-score   support\n",
      "\n",
      "           0       0.92      0.97      0.94       431\n",
      "           1       0.89      0.72      0.80       134\n",
      "\n",
      "    accuracy                           0.91       565\n",
      "   macro avg       0.90      0.85      0.87       565\n",
      "weighted avg       0.91      0.91      0.91       565\n",
      "\n",
      "------------------------------\n",
      "------------------------------ 0.44999999999999996\n",
      "Counter({'척추전방위증': 1})\n",
      "Counter({'척추전방위증': 1}) Counter({'척추전방위증': 1})\n",
      "Duration: 0:00:15.801033\n",
      "              precision    recall  f1-score   support\n",
      "\n",
      "           0       0.94      0.99      0.97       989\n",
      "           1       0.97      0.82      0.89       334\n",
      "\n",
      "    accuracy                           0.95      1323\n",
      "   macro avg       0.96      0.91      0.93      1323\n",
      "weighted avg       0.95      0.95      0.95      1323\n",
      "\n",
      "              precision    recall  f1-score   support\n",
      "\n",
      "           0       0.92      0.95      0.93       427\n",
      "           1       0.84      0.74      0.78       140\n",
      "\n",
      "    accuracy                           0.90       567\n",
      "   macro avg       0.88      0.84      0.86       567\n",
      "weighted avg       0.90      0.90      0.90       567\n",
      "\n",
      "------------------------------\n",
      "------------------------------ 0.49999999999999994\n",
      "Counter({'척추전방위증': 1})\n",
      "Counter({'척추전방위증': 1}) Counter({'척추전방위증': 1})\n",
      "Duration: 0:00:15.992241\n",
      "              precision    recall  f1-score   support\n",
      "\n",
      "           0       0.96      0.96      0.96       996\n",
      "           1       0.91      0.91      0.91       406\n",
      "\n",
      "    accuracy                           0.95      1402\n",
      "   macro avg       0.94      0.94      0.94      1402\n",
      "weighted avg       0.95      0.95      0.95      1402\n",
      "\n",
      "              precision    recall  f1-score   support\n",
      "\n",
      "           0       0.93      0.94      0.94       430\n",
      "           1       0.85      0.83      0.84       171\n",
      "\n",
      "    accuracy                           0.91       601\n",
      "   macro avg       0.89      0.89      0.89       601\n",
      "weighted avg       0.91      0.91      0.91       601\n",
      "\n",
      "------------------------------\n",
      "------------------------------ 0.5499999999999999\n",
      "Counter({'척추전방위증': 1})\n",
      "Counter({'척추전방위증': 1}) Counter({'척추전방위증': 1})\n",
      "Duration: 0:00:15.965284\n",
      "              precision    recall  f1-score   support\n",
      "\n",
      "           0       0.98      0.83      0.90       992\n",
      "           1       0.73      0.96      0.83       465\n",
      "\n",
      "    accuracy                           0.87      1457\n",
      "   macro avg       0.85      0.90      0.86      1457\n",
      "weighted avg       0.90      0.87      0.88      1457\n",
      "\n",
      "              precision    recall  f1-score   support\n",
      "\n",
      "           0       0.96      0.80      0.87       434\n",
      "           1       0.67      0.93      0.78       191\n",
      "\n",
      "    accuracy                           0.84       625\n",
      "   macro avg       0.82      0.87      0.83       625\n",
      "weighted avg       0.87      0.84      0.85       625\n",
      "\n",
      "------------------------------\n",
      "------------------------------ 0.5999999999999999\n",
      "Counter({'척추전방위증': 1})\n",
      "Counter({'척추전방위증': 1}) Counter({'척추전방위증': 1})\n",
      "Duration: 0:00:16.328322\n",
      "              precision    recall  f1-score   support\n",
      "\n",
      "           0       0.96      0.96      0.96       989\n",
      "           1       0.92      0.92      0.92       512\n",
      "\n",
      "    accuracy                           0.95      1501\n",
      "   macro avg       0.94      0.94      0.94      1501\n",
      "weighted avg       0.95      0.95      0.95      1501\n",
      "\n",
      "              precision    recall  f1-score   support\n",
      "\n",
      "           0       0.94      0.88      0.91       424\n",
      "           1       0.80      0.90      0.84       220\n",
      "\n",
      "    accuracy                           0.89       644\n",
      "   macro avg       0.87      0.89      0.88       644\n",
      "weighted avg       0.89      0.89      0.89       644\n",
      "\n",
      "------------------------------\n",
      "------------------------------ 0.6499999999999999\n",
      "Counter({'척추전방위증': 1})\n",
      "Counter({'척추전방위증': 1}) Counter({'척추전방위증': 1})\n",
      "Duration: 0:00:16.474951\n",
      "              precision    recall  f1-score   support\n",
      "\n",
      "           0       0.97      0.87      0.92       989\n",
      "           1       0.81      0.96      0.88       590\n",
      "\n",
      "    accuracy                           0.90      1579\n",
      "   macro avg       0.89      0.91      0.90      1579\n",
      "weighted avg       0.91      0.90      0.90      1579\n",
      "\n",
      "              precision    recall  f1-score   support\n",
      "\n",
      "           0       0.93      0.82      0.88       410\n",
      "           1       0.77      0.91      0.84       267\n",
      "\n",
      "    accuracy                           0.86       677\n",
      "   macro avg       0.85      0.87      0.86       677\n",
      "weighted avg       0.87      0.86      0.86       677\n",
      "\n",
      "------------------------------\n",
      "------------------------------ 0.7\n",
      "Counter({'척추전방위증': 1})\n",
      "Counter({'척추전방위증': 1}) Counter({'척추전방위증': 1})\n",
      "Duration: 0:00:16.597625\n",
      "              precision    recall  f1-score   support\n",
      "\n",
      "           0       0.94      0.92      0.93       986\n",
      "           1       0.89      0.91      0.90       640\n",
      "\n",
      "    accuracy                           0.92      1626\n",
      "   macro avg       0.91      0.92      0.92      1626\n",
      "weighted avg       0.92      0.92      0.92      1626\n",
      "\n",
      "              precision    recall  f1-score   support\n",
      "\n",
      "           0       0.89      0.89      0.89       423\n",
      "           1       0.83      0.84      0.83       275\n",
      "\n",
      "    accuracy                           0.87       698\n",
      "   macro avg       0.86      0.86      0.86       698\n",
      "weighted avg       0.87      0.87      0.87       698\n",
      "\n",
      "------------------------------\n",
      "------------------------------ 0.7499999999999999\n",
      "Counter({'척추전방위증': 1})\n",
      "Counter({'척추전방위증': 1}) Counter({'척추전방위증': 1})\n",
      "Duration: 0:00:16.654468\n",
      "              precision    recall  f1-score   support\n",
      "\n",
      "           0       0.90      0.95      0.93       977\n",
      "           1       0.93      0.86      0.89       700\n",
      "\n",
      "    accuracy                           0.91      1677\n",
      "   macro avg       0.92      0.91      0.91      1677\n",
      "weighted avg       0.91      0.91      0.91      1677\n",
      "\n",
      "              precision    recall  f1-score   support\n",
      "\n",
      "           0       0.88      0.93      0.90       425\n",
      "           1       0.89      0.81      0.85       294\n",
      "\n",
      "    accuracy                           0.88       719\n",
      "   macro avg       0.88      0.87      0.88       719\n",
      "weighted avg       0.88      0.88      0.88       719\n",
      "\n",
      "------------------------------\n",
      "------------------------------ 0.7999999999999998\n",
      "Counter({'척추전방위증': 1})\n",
      "Counter({'척추전방위증': 1}) Counter({'척추전방위증': 1})\n",
      "Duration: 0:00:16.805069\n",
      "              precision    recall  f1-score   support\n",
      "\n",
      "           0       0.92      0.90      0.91       976\n",
      "           1       0.88      0.90      0.89       778\n",
      "\n",
      "    accuracy                           0.90      1754\n",
      "   macro avg       0.90      0.90      0.90      1754\n",
      "weighted avg       0.90      0.90      0.90      1754\n",
      "\n",
      "              precision    recall  f1-score   support\n",
      "\n",
      "           0       0.89      0.88      0.88       421\n",
      "           1       0.85      0.87      0.86       332\n",
      "\n",
      "    accuracy                           0.87       753\n",
      "   macro avg       0.87      0.87      0.87       753\n",
      "weighted avg       0.87      0.87      0.87       753\n",
      "\n",
      "------------------------------\n",
      "------------------------------ 0.8499999999999999\n",
      "Counter({'척추전방위증': 1})\n",
      "Counter({'척추전방위증': 1}) Counter({'척추전방위증': 1})\n",
      "Duration: 0:00:17.345131\n",
      "              precision    recall  f1-score   support\n",
      "\n",
      "           0       0.88      0.95      0.92       967\n",
      "           1       0.94      0.86      0.89       829\n",
      "\n",
      "    accuracy                           0.91      1796\n",
      "   macro avg       0.91      0.90      0.90      1796\n",
      "weighted avg       0.91      0.91      0.91      1796\n",
      "\n",
      "              precision    recall  f1-score   support\n",
      "\n",
      "           0       0.87      0.93      0.90       418\n",
      "           1       0.90      0.83      0.87       352\n",
      "\n",
      "    accuracy                           0.88       770\n",
      "   macro avg       0.89      0.88      0.88       770\n",
      "weighted avg       0.88      0.88      0.88       770\n",
      "\n",
      "------------------------------\n",
      "------------------------------ 0.8999999999999999\n",
      "Counter({'척추전방위증': 1})\n",
      "Counter({'척추전방위증': 1}) Counter({'척추전방위증': 1})\n",
      "Duration: 0:00:17.724633\n",
      "              precision    recall  f1-score   support\n",
      "\n",
      "           0       0.92      0.94      0.93       953\n",
      "           1       0.94      0.91      0.92       904\n",
      "\n",
      "    accuracy                           0.93      1857\n",
      "   macro avg       0.93      0.93      0.93      1857\n",
      "weighted avg       0.93      0.93      0.93      1857\n",
      "\n",
      "              precision    recall  f1-score   support\n",
      "\n",
      "           0       0.91      0.88      0.89       430\n",
      "           1       0.86      0.89      0.88       366\n",
      "\n",
      "    accuracy                           0.88       796\n",
      "   macro avg       0.88      0.89      0.88       796\n",
      "weighted avg       0.89      0.88      0.88       796\n",
      "\n",
      "------------------------------\n",
      "------------------------------ 0.95\n",
      "Counter({'척추전방위증': 1})\n",
      "Counter({'척추전방위증': 1}) Counter({'척추전방위증': 1})\n",
      "Duration: 0:00:17.633873\n",
      "              precision    recall  f1-score   support\n",
      "\n",
      "           0       0.94      0.85      0.89       969\n",
      "           1       0.86      0.95      0.90       962\n",
      "\n",
      "    accuracy                           0.90      1931\n",
      "   macro avg       0.90      0.90      0.90      1931\n",
      "weighted avg       0.90      0.90      0.90      1931\n",
      "\n",
      "              precision    recall  f1-score   support\n",
      "\n",
      "           0       0.95      0.86      0.90       425\n",
      "           1       0.86      0.95      0.90       403\n",
      "\n",
      "    accuracy                           0.90       828\n",
      "   macro avg       0.90      0.90      0.90       828\n",
      "weighted avg       0.90      0.90      0.90       828\n",
      "\n",
      "------------------------------\n"
     ]
    }
   ],
   "source": [
    "import numpy as np\n",
    "sampling_strategy_list=np.arange(0.3, 1.0, 0.05)\n",
    "\n",
    "for sampling_strategy in sampling_strategy_list :\n",
    "  print(30*'-','{}'.format(sampling_strategy))\n",
    "  resampler = SMOTEENN(sampling_strategy=sampling_strategy)\n",
    "  features_combine_resample, target_combine_resample = resampler.fit_resample(features, target)\n",
    "  print(Counter(target_combine_resample))\n",
    "  features_combine_resample_train, features_combine_resample_test, target_combine_resample_train, target_combine_resample_test = train_test_split(features_combine_resample, target_combine_resample, test_size = 0.3, random_state= 1234)\n",
    "  print(Counter(target_combine_resample_train), Counter(target_combine_resample_test))\n",
    "  # re learning with oversampling datasets\n",
    "\n",
    "  start = datetime.now()  # start date and time\n",
    "\n",
    "  grid_model.fit(features_combine_resample_train, target_combine_resample_train)\n",
    "\n",
    "  end = datetime.now()  # end date and time - set to current date and time\n",
    "\n",
    "  duration = end - start  # duration as a timedelta object\n",
    "\n",
    "  print(\"Duration: {0}\".format(duration))\n",
    "\n",
    "  best_model = grid_model.best_estimator_\n",
    "  target_combine_resample_train_pred = best_model.predict(features_combine_resample_train)\n",
    "  target_combine_resample_test_pred = best_model.predict(features_combine_resample_test)\n",
    "\n",
    "  print(classification_report(target_combine_resample_train, target_combine_resample_train_pred))\n",
    "  print(classification_report(target_combine_resample_test, target_combine_resample_test_pred))\n",
    "  print(30*'-')"
   ]
  },
  {
   "cell_type": "code",
   "execution_count": null,
   "id": "c57de8d1-70d7-40b7-ae0b-6457c03ba018",
   "metadata": {},
   "outputs": [],
   "source": [
    "# ------------------------------\n",
    "# ------------------------------ 0.95 (0.95 수치는 데이터 균형 비율을 의미함)\n",
    "# Counter({'척추전방위증': 1})\n",
    "# Counter({'척추전방위증': 1}) Counter({'척추전방위증': 1})\n",
    "# Duration: 0:00:17.633873\n",
    "#               precision    recall  f1-score   support\n",
    "\n",
    "#            0       0.94      0.85      0.89       969\n",
    "#            1       0.86      0.95      0.90       962\n",
    "\n",
    "#     accuracy                           0.90      1931\n",
    "#    macro avg       0.90      0.90      0.90      1931\n",
    "# weighted avg       0.90      0.90      0.90      1931\n",
    "\n",
    "#               precision    recall  f1-score   support\n",
    "\n",
    "#            0       0.95      0.86      0.90       425\n",
    "#            1       0.86      0.95      0.90       403\n",
    "\n",
    "#     accuracy                           0.90       828\n",
    "#    macro avg       0.90      0.90      0.90       828\n",
    "# weighted avg       0.90      0.90      0.90       828\n",
    "\n",
    "# ------------------------------"
   ]
  },
  {
   "cell_type": "code",
   "execution_count": null,
   "id": "86f00d7e-e561-42c2-aedc-74ebb826bde0",
   "metadata": {},
   "outputs": [],
   "source": [
    "# pikle 하고 서비스에 전달하기 "
   ]
  }
 ],
 "metadata": {
  "kernelspec": {
   "display_name": "Python 3 (ipykernel)",
   "language": "python",
   "name": "python3"
  },
  "language_info": {
   "codemirror_mode": {
    "name": "ipython",
    "version": 3
   },
   "file_extension": ".py",
   "mimetype": "text/x-python",
   "name": "python",
   "nbconvert_exporter": "python",
   "pygments_lexer": "ipython3",
   "version": "3.11.3"
  }
 },
 "nbformat": 4,
 "nbformat_minor": 5
}
